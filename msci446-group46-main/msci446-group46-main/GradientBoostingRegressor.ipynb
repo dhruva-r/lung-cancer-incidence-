{
 "cells": [
  {
   "cell_type": "code",
   "execution_count": 1,
   "id": "01088a68",
   "metadata": {},
   "outputs": [],
   "source": [
    "from sklearn.ensemble import GradientBoostingRegressor\n",
    "\n",
    "from sklearn import tree\n",
    "\n",
    "import pandas as pd\n",
    "import numpy as np\n",
    "import matplotlib.pyplot as plt\n",
    "import seaborn as sns\n",
    "\n",
    "from sklearn.model_selection import train_test_split, cross_val_score\n",
    "from sklearn.metrics import classification_report, accuracy_score, f1_score, mean_squared_error, mean_absolute_error, r2_score"
   ]
  },
  {
   "cell_type": "code",
   "execution_count": 2,
   "id": "4ca20d04",
   "metadata": {},
   "outputs": [],
   "source": [
    "X_train = pd.read_csv('X_train.csv', index_col=0)\n",
    "y_train = pd.read_csv('y_train.csv')['Lung Cancer']\n",
    "\n",
    "X_test = pd.read_csv('X_test.csv', index_col=0)\n",
    "y_test = pd.read_csv('y_test.csv')['Lung Cancer']"
   ]
  },
  {
   "cell_type": "code",
   "execution_count": 3,
   "id": "befa2c3e",
   "metadata": {},
   "outputs": [
    {
     "name": "stdout",
     "output_type": "stream",
     "text": [
      "Selected features in Backward Selection: Index(['PM2.5', 'Sociod_EQI', 'CLU50_1', 'NO2', 'O3', 'CO', 'Disel', 'CS2',\n",
      "       'smoking_data', 'UCI_smoking'],\n",
      "      dtype='object')\n",
      "Score -119.0501909988672\n"
     ]
    },
    {
     "data": {
      "text/html": [
       "<div>\n",
       "<style scoped>\n",
       "    .dataframe tbody tr th:only-of-type {\n",
       "        vertical-align: middle;\n",
       "    }\n",
       "\n",
       "    .dataframe tbody tr th {\n",
       "        vertical-align: top;\n",
       "    }\n",
       "\n",
       "    .dataframe thead th {\n",
       "        text-align: right;\n",
       "    }\n",
       "</style>\n",
       "<table border=\"1\" class=\"dataframe\">\n",
       "  <thead>\n",
       "    <tr style=\"text-align: right;\">\n",
       "      <th></th>\n",
       "      <th>feature_idx</th>\n",
       "      <th>cv_scores</th>\n",
       "      <th>avg_score</th>\n",
       "      <th>feature_names</th>\n",
       "      <th>ci_bound</th>\n",
       "      <th>std_dev</th>\n",
       "      <th>std_err</th>\n",
       "    </tr>\n",
       "  </thead>\n",
       "  <tbody>\n",
       "    <tr>\n",
       "      <th>19</th>\n",
       "      <td>(0, 1, 2, 3, 4, 5, 6, 7, 8, 9, 10, 11, 12, 13,...</td>\n",
       "      <td>[-144.47715800695354, -116.91494837530584, -10...</td>\n",
       "      <td>-122.71086</td>\n",
       "      <td>(PM2.5, Land_EQI, Sociod_EQI, Built_EQI, CLU50...</td>\n",
       "      <td>18.637545</td>\n",
       "      <td>14.500643</td>\n",
       "      <td>7.250322</td>\n",
       "    </tr>\n",
       "    <tr>\n",
       "      <th>18</th>\n",
       "      <td>(0, 1, 2, 3, 4, 5, 6, 7, 8, 9, 10, 11, 12, 13,...</td>\n",
       "      <td>[-141.8397368938886, -113.37418222855001, -103...</td>\n",
       "      <td>-120.391058</td>\n",
       "      <td>(PM2.5, Land_EQI, Sociod_EQI, Built_EQI, CLU50...</td>\n",
       "      <td>16.84578</td>\n",
       "      <td>13.106589</td>\n",
       "      <td>6.553295</td>\n",
       "    </tr>\n",
       "    <tr>\n",
       "      <th>17</th>\n",
       "      <td>(0, 1, 2, 3, 4, 5, 6, 7, 8, 9, 10, 11, 12, 13,...</td>\n",
       "      <td>[-137.04783547699571, -113.33689045037663, -10...</td>\n",
       "      <td>-119.705102</td>\n",
       "      <td>(PM2.5, Land_EQI, Sociod_EQI, Built_EQI, CLU50...</td>\n",
       "      <td>15.832439</td>\n",
       "      <td>12.318176</td>\n",
       "      <td>6.159088</td>\n",
       "    </tr>\n",
       "    <tr>\n",
       "      <th>16</th>\n",
       "      <td>(0, 1, 2, 3, 4, 5, 6, 7, 8, 9, 10, 11, 12, 15,...</td>\n",
       "      <td>[-138.78461283599546, -115.43897163402559, -10...</td>\n",
       "      <td>-120.297346</td>\n",
       "      <td>(PM2.5, Land_EQI, Sociod_EQI, Built_EQI, CLU50...</td>\n",
       "      <td>15.140054</td>\n",
       "      <td>11.779476</td>\n",
       "      <td>5.889738</td>\n",
       "    </tr>\n",
       "    <tr>\n",
       "      <th>15</th>\n",
       "      <td>(0, 1, 2, 3, 4, 5, 7, 8, 9, 10, 11, 12, 15, 16...</td>\n",
       "      <td>[-140.07862623693276, -112.22546547200889, -10...</td>\n",
       "      <td>-120.332683</td>\n",
       "      <td>(PM2.5, Land_EQI, Sociod_EQI, Built_EQI, CLU50...</td>\n",
       "      <td>17.404717</td>\n",
       "      <td>13.541461</td>\n",
       "      <td>6.77073</td>\n",
       "    </tr>\n",
       "    <tr>\n",
       "      <th>14</th>\n",
       "      <td>(0, 1, 2, 3, 4, 5, 7, 8, 9, 11, 12, 15, 16, 18)</td>\n",
       "      <td>[-139.55375572440397, -110.90323345703537, -10...</td>\n",
       "      <td>-119.474368</td>\n",
       "      <td>(PM2.5, Land_EQI, Sociod_EQI, Built_EQI, CLU50...</td>\n",
       "      <td>17.384512</td>\n",
       "      <td>13.525741</td>\n",
       "      <td>6.76287</td>\n",
       "    </tr>\n",
       "    <tr>\n",
       "      <th>13</th>\n",
       "      <td>(0, 1, 2, 3, 4, 7, 8, 9, 11, 12, 15, 16, 18)</td>\n",
       "      <td>[-139.47796679184714, -113.29433247564874, -10...</td>\n",
       "      <td>-120.013498</td>\n",
       "      <td>(PM2.5, Land_EQI, Sociod_EQI, Built_EQI, CLU50...</td>\n",
       "      <td>17.297497</td>\n",
       "      <td>13.45804</td>\n",
       "      <td>6.72902</td>\n",
       "    </tr>\n",
       "    <tr>\n",
       "      <th>12</th>\n",
       "      <td>(0, 1, 2, 3, 4, 7, 8, 9, 11, 12, 16, 18)</td>\n",
       "      <td>[-136.56462457921407, -113.71452119156332, -99...</td>\n",
       "      <td>-119.840829</td>\n",
       "      <td>(PM2.5, Land_EQI, Sociod_EQI, Built_EQI, CLU50...</td>\n",
       "      <td>17.357243</td>\n",
       "      <td>13.504525</td>\n",
       "      <td>6.752262</td>\n",
       "    </tr>\n",
       "    <tr>\n",
       "      <th>11</th>\n",
       "      <td>(0, 1, 2, 4, 7, 8, 9, 11, 12, 16, 18)</td>\n",
       "      <td>[-138.73911508594048, -111.0074495324199, -98....</td>\n",
       "      <td>-119.531824</td>\n",
       "      <td>(PM2.5, Land_EQI, Sociod_EQI, CLU50_1, NO2, O3...</td>\n",
       "      <td>18.650421</td>\n",
       "      <td>14.510661</td>\n",
       "      <td>7.25533</td>\n",
       "    </tr>\n",
       "    <tr>\n",
       "      <th>10</th>\n",
       "      <td>(0, 2, 4, 7, 8, 9, 11, 12, 16, 18)</td>\n",
       "      <td>[-136.49500863928958, -109.5893794460956, -98....</td>\n",
       "      <td>-119.050191</td>\n",
       "      <td>(PM2.5, Sociod_EQI, CLU50_1, NO2, O3, CO, Dise...</td>\n",
       "      <td>17.999919</td>\n",
       "      <td>14.004548</td>\n",
       "      <td>7.002274</td>\n",
       "    </tr>\n",
       "  </tbody>\n",
       "</table>\n",
       "</div>"
      ],
      "text/plain": [
       "                                          feature_idx  \\\n",
       "19  (0, 1, 2, 3, 4, 5, 6, 7, 8, 9, 10, 11, 12, 13,...   \n",
       "18  (0, 1, 2, 3, 4, 5, 6, 7, 8, 9, 10, 11, 12, 13,...   \n",
       "17  (0, 1, 2, 3, 4, 5, 6, 7, 8, 9, 10, 11, 12, 13,...   \n",
       "16  (0, 1, 2, 3, 4, 5, 6, 7, 8, 9, 10, 11, 12, 15,...   \n",
       "15  (0, 1, 2, 3, 4, 5, 7, 8, 9, 10, 11, 12, 15, 16...   \n",
       "14    (0, 1, 2, 3, 4, 5, 7, 8, 9, 11, 12, 15, 16, 18)   \n",
       "13       (0, 1, 2, 3, 4, 7, 8, 9, 11, 12, 15, 16, 18)   \n",
       "12           (0, 1, 2, 3, 4, 7, 8, 9, 11, 12, 16, 18)   \n",
       "11              (0, 1, 2, 4, 7, 8, 9, 11, 12, 16, 18)   \n",
       "10                 (0, 2, 4, 7, 8, 9, 11, 12, 16, 18)   \n",
       "\n",
       "                                            cv_scores   avg_score  \\\n",
       "19  [-144.47715800695354, -116.91494837530584, -10...  -122.71086   \n",
       "18  [-141.8397368938886, -113.37418222855001, -103... -120.391058   \n",
       "17  [-137.04783547699571, -113.33689045037663, -10... -119.705102   \n",
       "16  [-138.78461283599546, -115.43897163402559, -10... -120.297346   \n",
       "15  [-140.07862623693276, -112.22546547200889, -10... -120.332683   \n",
       "14  [-139.55375572440397, -110.90323345703537, -10... -119.474368   \n",
       "13  [-139.47796679184714, -113.29433247564874, -10... -120.013498   \n",
       "12  [-136.56462457921407, -113.71452119156332, -99... -119.840829   \n",
       "11  [-138.73911508594048, -111.0074495324199, -98.... -119.531824   \n",
       "10  [-136.49500863928958, -109.5893794460956, -98.... -119.050191   \n",
       "\n",
       "                                        feature_names   ci_bound    std_dev  \\\n",
       "19  (PM2.5, Land_EQI, Sociod_EQI, Built_EQI, CLU50...  18.637545  14.500643   \n",
       "18  (PM2.5, Land_EQI, Sociod_EQI, Built_EQI, CLU50...   16.84578  13.106589   \n",
       "17  (PM2.5, Land_EQI, Sociod_EQI, Built_EQI, CLU50...  15.832439  12.318176   \n",
       "16  (PM2.5, Land_EQI, Sociod_EQI, Built_EQI, CLU50...  15.140054  11.779476   \n",
       "15  (PM2.5, Land_EQI, Sociod_EQI, Built_EQI, CLU50...  17.404717  13.541461   \n",
       "14  (PM2.5, Land_EQI, Sociod_EQI, Built_EQI, CLU50...  17.384512  13.525741   \n",
       "13  (PM2.5, Land_EQI, Sociod_EQI, Built_EQI, CLU50...  17.297497   13.45804   \n",
       "12  (PM2.5, Land_EQI, Sociod_EQI, Built_EQI, CLU50...  17.357243  13.504525   \n",
       "11  (PM2.5, Land_EQI, Sociod_EQI, CLU50_1, NO2, O3...  18.650421  14.510661   \n",
       "10  (PM2.5, Sociod_EQI, CLU50_1, NO2, O3, CO, Dise...  17.999919  14.004548   \n",
       "\n",
       "     std_err  \n",
       "19  7.250322  \n",
       "18  6.553295  \n",
       "17  6.159088  \n",
       "16  5.889738  \n",
       "15   6.77073  \n",
       "14   6.76287  \n",
       "13   6.72902  \n",
       "12  6.752262  \n",
       "11   7.25533  \n",
       "10  7.002274  "
      ]
     },
     "execution_count": 3,
     "metadata": {},
     "output_type": "execute_result"
    }
   ],
   "source": [
    "from mlxtend.feature_selection import SequentialFeatureSelector as SFS\n",
    "# Initialize Gradient Boosting Regression model\n",
    "model = GradientBoostingRegressor(n_estimators=100, random_state=156)\n",
    "\n",
    "sfs_backward = SFS(model, \n",
    "                   k_features=10, \n",
    "                   forward=False, \n",
    "                   floating=False, \n",
    "                   scoring='neg_mean_squared_error',\n",
    "                   cv=5)\n",
    "\n",
    "sfs_backward = sfs_backward.fit(X_train, y_train)\n",
    "\n",
    "# Selected Features\n",
    "selected_features_backward = X_train.columns[list(sfs_backward.k_feature_idx_)]\n",
    "print('Selected features in Backward Selection:', selected_features_backward)\n",
    "print('Score',sfs_backward.k_score_)\n",
    "\n",
    "pd.DataFrame.from_dict(sfs_backward.get_metric_dict()).T"
   ]
  },
  {
   "cell_type": "code",
   "execution_count": 4,
   "id": "4e6cdc4f",
   "metadata": {},
   "outputs": [
    {
     "data": {
      "image/png": "[encoded data removed]",
      "text/plain": [
       "<Figure size 640x480 with 1 Axes>"
      ]
     },
     "metadata": {},
     "output_type": "display_data"
    }
   ],
   "source": [
    "from mlxtend.plotting import plot_sequential_feature_selection as plot_sfs\n",
    "import matplotlib.pyplot as plt\n",
    "\n",
    "fig = plot_sfs(sfs_backward.get_metric_dict(), kind='std_dev')\n",
    "plt.title('Sequential Backward Selection (w. StdDev)')\n",
    "plt.grid()\n",
    "plt.show()"
   ]
  },
  {
   "cell_type": "code",
   "execution_count": 6,
   "id": "b2543b2f",
   "metadata": {},
   "outputs": [
    {
     "name": "stdout",
     "output_type": "stream",
     "text": [
      "Mean Squared Error: 109.7357967190533\n",
      "Mean Absolute Error: 8.227734134271852\n",
      "R-squared Score: 0.6250145220147525\n"
     ]
    }
   ],
   "source": [
    "if 'Unnamed: 0' in X_test.columns:\n",
    "    X_test.drop(columns=['Unnamed: 0'], inplace=True)\n",
    "\n",
    "X_train = X_train[selected_features_backward]\n",
    "X_test = X_test[selected_features_backward]     \n",
    "\n",
    "model.fit(X_train, y_train)\n",
    "preds = model.predict(X_test)\n",
    "\n",
    "mse = mean_squared_error(y_test, preds)\n",
    "mae = mean_absolute_error(y_test, preds)\n",
    "r2 = r2_score(y_test, preds)\n",
    "\n",
    "print(\"Mean Squared Error:\", mse)\n",
    "print(\"Mean Absolute Error:\", mae)\n",
    "print(\"R-squared Score:\", r2)"
   ]
  },
  {
   "cell_type": "code",
   "execution_count": 7,
   "id": "11cee164",
   "metadata": {},
   "outputs": [
    {
     "data": {
      "text/plain": [
       "0.5982123415509383"
      ]
     },
     "execution_count": 7,
     "metadata": {},
     "output_type": "execute_result"
    }
   ],
   "source": [
    "from sklearn.model_selection import RepeatedKFold\n",
    "\n",
    "repeatkf = RepeatedKFold(n_splits=5, n_repeats=10, random_state=None)\n",
    "\n",
    "np.mean(cross_val_score(model, X_train, y_train, cv=repeatkf, n_jobs=-1))"
   ]
  },
  {
   "cell_type": "code",
   "execution_count": 8,
   "id": "d178a68a",
   "metadata": {},
   "outputs": [
    {
     "name": "stdout",
     "output_type": "stream",
     "text": [
      "Fitting 5 folds for each of 60 candidates, totalling 300 fits\n",
      "Best parameters: {'learning_rate': 0.11, 'max_depth': 5, 'n_estimators': 50}\n",
      "Test set score of the best model: 0.6216056340238103\n"
     ]
    }
   ],
   "source": [
    "from sklearn.model_selection import GridSearchCV\n",
    "\n",
    "params = {\n",
    "    'max_depth': np.arange(5,30,5),\n",
    "    'n_estimators': np.arange(50,210,50),\n",
    "    'learning_rate': np.arange(0.01,0.31,0.1)\n",
    "}\n",
    "\n",
    "grid_search = GridSearchCV(estimator=model, param_grid=params, cv=5, n_jobs=-1, verbose=1, scoring='neg_mean_absolute_error', return_train_score=True)\n",
    "grid_search.fit(X_train, y_train)\n",
    "\n",
    "print(\"Best parameters:\", grid_search.best_params_)\n",
    "\n",
    "best_model = grid_search.best_estimator_\n",
    "test_score = best_model.score(X_test, y_test)\n",
    "print(\"Test set score of the best model:\", test_score)"
   ]
  },
  {
   "cell_type": "code",
   "execution_count": 10,
   "id": "f0ac284a",
   "metadata": {},
   "outputs": [
    {
     "name": "stdout",
     "output_type": "stream",
     "text": [
      "Mean Squared Error: 110.73337412290888\n",
      "Mean Absolute Error: 8.185417317307724\n",
      "R-squared Score: 0.6216056340238103\n"
     ]
    }
   ],
   "source": [
    "preds = best_model.predict(X_test)\n",
    "mse = mean_squared_error(y_test, preds)\n",
    "\n",
    "mse = mean_squared_error(y_test, preds)\n",
    "mae = mean_absolute_error(y_test, preds)\n",
    "r2 = r2_score(y_test, preds)\n",
    "\n",
    "print(\"Mean Squared Error:\", mse)\n",
    "print(\"Mean Absolute Error:\", mae)\n",
    "print(\"R-squared Score:\", r2)\n"
   ]
  }
 ],
 "metadata": {
  "kernelspec": {
   "display_name": "Python 3 (ipykernel)",
   "language": "python",
   "name": "python3"
  },
  "language_info": {
   "codemirror_mode": {
    "name": "ipython",
    "version": 3
   },
   "file_extension": ".py",
   "mimetype": "text/x-python",
   "name": "python",
   "nbconvert_exporter": "python",
   "pygments_lexer": "ipython3",
   "version": "3.11.7"
  }
 },
 "nbformat": 4,
 "nbformat_minor": 5
}
