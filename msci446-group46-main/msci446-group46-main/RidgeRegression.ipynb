{
 "cells": [
  {
   "cell_type": "markdown",
   "metadata": {},
   "source": [
    "# Ridge Regression"
   ]
  },
  {
   "cell_type": "code",
   "execution_count": 20,
   "metadata": {},
   "outputs": [],
   "source": [
    "import pandas as pd\n",
    "import numpy as np\n",
    "\n",
    "import matplotlib.pyplot as plt\n",
    "import seaborn as sns\n",
    "%matplotlib inline\n",
    "\n",
    "import warnings\n",
    "warnings.filterwarnings('ignore')\n",
    "\n",
    "from sklearn.model_selection import cross_val_score, train_test_split, cross_validate\n",
    "from sklearn.linear_model import Ridge\n",
    "from sklearn.metrics import mean_squared_error, mean_absolute_error, r2_score"
   ]
  },
  {
   "cell_type": "code",
   "execution_count": 21,
   "metadata": {},
   "outputs": [],
   "source": [
    "X_train = pd.read_csv('X_train.csv', index_col=0)\n",
    "y_train = pd.read_csv('y_train.csv', index_col=0)\n",
    "X_test = pd.read_csv('X_test.csv', index_col=0)\n",
    "y_test = pd.read_csv('y_test.csv', index_col=0)\n"
   ]
  },
  {
   "cell_type": "code",
   "execution_count": 22,
   "metadata": {},
   "outputs": [
    {
     "name": "stdout",
     "output_type": "stream",
     "text": [
      "Mean Absolute Error: 8.833247732899647\n",
      "Mean Squared Error: 122.87939665412942\n",
      "r2 score: 0.580100653874534\n",
      "Selected features in Backward Selection: Index(['PM2.5', 'Land_EQI', 'Sociod_EQI', 'PM10', 'CO', 'Air_EQI', 'Water_EQI',\n",
      "       'EQI', 'smoking_data', 'UCI_smoking'],\n",
      "      dtype='object')\n",
      "Score -136.23122279257436\n"
     ]
    },
    {
     "data": {
      "text/html": [
       "<div>\n",
       "<style scoped>\n",
       "    .dataframe tbody tr th:only-of-type {\n",
       "        vertical-align: middle;\n",
       "    }\n",
       "\n",
       "    .dataframe tbody tr th {\n",
       "        vertical-align: top;\n",
       "    }\n",
       "\n",
       "    .dataframe thead th {\n",
       "        text-align: right;\n",
       "    }\n",
       "</style>\n",
       "<table border=\"1\" class=\"dataframe\">\n",
       "  <thead>\n",
       "    <tr style=\"text-align: right;\">\n",
       "      <th></th>\n",
       "      <th>feature_idx</th>\n",
       "      <th>cv_scores</th>\n",
       "      <th>avg_score</th>\n",
       "      <th>feature_names</th>\n",
       "      <th>ci_bound</th>\n",
       "      <th>std_dev</th>\n",
       "      <th>std_err</th>\n",
       "    </tr>\n",
       "  </thead>\n",
       "  <tbody>\n",
       "    <tr>\n",
       "      <th>19</th>\n",
       "      <td>(0, 1, 2, 3, 4, 5, 6, 7, 8, 9, 10, 11, 12, 13,...</td>\n",
       "      <td>[-144.0962441804929, -133.97696325400364, -116...</td>\n",
       "      <td>-137.40837</td>\n",
       "      <td>(PM2.5, Land_EQI, Sociod_EQI, Built_EQI, CLU50...</td>\n",
       "      <td>16.215733</td>\n",
       "      <td>12.616391</td>\n",
       "      <td>6.308196</td>\n",
       "    </tr>\n",
       "    <tr>\n",
       "      <th>18</th>\n",
       "      <td>(0, 1, 2, 3, 4, 5, 6, 7, 9, 10, 11, 12, 13, 14...</td>\n",
       "      <td>[-144.2170836744362, -134.05381940167, -116.18...</td>\n",
       "      <td>-137.093907</td>\n",
       "      <td>(PM2.5, Land_EQI, Sociod_EQI, Built_EQI, CLU50...</td>\n",
       "      <td>15.557793</td>\n",
       "      <td>12.104491</td>\n",
       "      <td>6.052246</td>\n",
       "    </tr>\n",
       "    <tr>\n",
       "      <th>17</th>\n",
       "      <td>(0, 1, 2, 3, 5, 6, 7, 9, 10, 11, 12, 13, 14, 1...</td>\n",
       "      <td>[-143.75624751454518, -133.99898489399587, -11...</td>\n",
       "      <td>-136.848803</td>\n",
       "      <td>(PM2.5, Land_EQI, Sociod_EQI, Built_EQI, PM10,...</td>\n",
       "      <td>15.275332</td>\n",
       "      <td>11.884727</td>\n",
       "      <td>5.942363</td>\n",
       "    </tr>\n",
       "    <tr>\n",
       "      <th>16</th>\n",
       "      <td>(0, 1, 2, 3, 5, 7, 9, 10, 11, 12, 13, 14, 15, ...</td>\n",
       "      <td>[-143.6797467769223, -134.01189569804905, -116...</td>\n",
       "      <td>-136.681694</td>\n",
       "      <td>(PM2.5, Land_EQI, Sociod_EQI, Built_EQI, PM10,...</td>\n",
       "      <td>15.136311</td>\n",
       "      <td>11.776564</td>\n",
       "      <td>5.888282</td>\n",
       "    </tr>\n",
       "    <tr>\n",
       "      <th>15</th>\n",
       "      <td>(0, 1, 2, 3, 5, 9, 10, 11, 12, 13, 14, 15, 16,...</td>\n",
       "      <td>[-143.31442835686494, -133.87286303812235, -11...</td>\n",
       "      <td>-136.492339</td>\n",
       "      <td>(PM2.5, Land_EQI, Sociod_EQI, Built_EQI, PM10,...</td>\n",
       "      <td>15.000287</td>\n",
       "      <td>11.670733</td>\n",
       "      <td>5.835366</td>\n",
       "    </tr>\n",
       "    <tr>\n",
       "      <th>14</th>\n",
       "      <td>(0, 1, 2, 3, 5, 9, 10, 11, 12, 13, 14, 15, 16,...</td>\n",
       "      <td>[-142.2606489101067, -133.95201693729166, -116...</td>\n",
       "      <td>-136.364198</td>\n",
       "      <td>(PM2.5, Land_EQI, Sociod_EQI, Built_EQI, PM10,...</td>\n",
       "      <td>14.831125</td>\n",
       "      <td>11.539119</td>\n",
       "      <td>5.769559</td>\n",
       "    </tr>\n",
       "    <tr>\n",
       "      <th>13</th>\n",
       "      <td>(0, 1, 2, 3, 5, 9, 10, 12, 13, 14, 15, 16, 18)</td>\n",
       "      <td>[-142.27082036478737, -133.74386005216965, -11...</td>\n",
       "      <td>-136.266089</td>\n",
       "      <td>(PM2.5, Land_EQI, Sociod_EQI, Built_EQI, PM10,...</td>\n",
       "      <td>14.855057</td>\n",
       "      <td>11.557739</td>\n",
       "      <td>5.77887</td>\n",
       "    </tr>\n",
       "    <tr>\n",
       "      <th>12</th>\n",
       "      <td>(0, 1, 2, 3, 5, 9, 12, 13, 14, 15, 16, 18)</td>\n",
       "      <td>[-142.31129006285983, -133.83680731567318, -11...</td>\n",
       "      <td>-136.25003</td>\n",
       "      <td>(PM2.5, Land_EQI, Sociod_EQI, Built_EQI, PM10,...</td>\n",
       "      <td>14.96049</td>\n",
       "      <td>11.639769</td>\n",
       "      <td>5.819885</td>\n",
       "    </tr>\n",
       "    <tr>\n",
       "      <th>11</th>\n",
       "      <td>(0, 1, 2, 3, 5, 9, 13, 14, 15, 16, 18)</td>\n",
       "      <td>[-142.27813927420328, -133.83960847392945, -11...</td>\n",
       "      <td>-136.237573</td>\n",
       "      <td>(PM2.5, Land_EQI, Sociod_EQI, Built_EQI, PM10,...</td>\n",
       "      <td>14.960686</td>\n",
       "      <td>11.639922</td>\n",
       "      <td>5.819961</td>\n",
       "    </tr>\n",
       "    <tr>\n",
       "      <th>10</th>\n",
       "      <td>(0, 1, 2, 5, 9, 13, 14, 15, 16, 18)</td>\n",
       "      <td>[-142.25302356039498, -133.83355795024247, -11...</td>\n",
       "      <td>-136.231223</td>\n",
       "      <td>(PM2.5, Land_EQI, Sociod_EQI, PM10, CO, Air_EQ...</td>\n",
       "      <td>14.957381</td>\n",
       "      <td>11.637351</td>\n",
       "      <td>5.818675</td>\n",
       "    </tr>\n",
       "  </tbody>\n",
       "</table>\n",
       "</div>"
      ],
      "text/plain": [
       "                                          feature_idx  \\\n",
       "19  (0, 1, 2, 3, 4, 5, 6, 7, 8, 9, 10, 11, 12, 13,...   \n",
       "18  (0, 1, 2, 3, 4, 5, 6, 7, 9, 10, 11, 12, 13, 14...   \n",
       "17  (0, 1, 2, 3, 5, 6, 7, 9, 10, 11, 12, 13, 14, 1...   \n",
       "16  (0, 1, 2, 3, 5, 7, 9, 10, 11, 12, 13, 14, 15, ...   \n",
       "15  (0, 1, 2, 3, 5, 9, 10, 11, 12, 13, 14, 15, 16,...   \n",
       "14  (0, 1, 2, 3, 5, 9, 10, 11, 12, 13, 14, 15, 16,...   \n",
       "13     (0, 1, 2, 3, 5, 9, 10, 12, 13, 14, 15, 16, 18)   \n",
       "12         (0, 1, 2, 3, 5, 9, 12, 13, 14, 15, 16, 18)   \n",
       "11             (0, 1, 2, 3, 5, 9, 13, 14, 15, 16, 18)   \n",
       "10                (0, 1, 2, 5, 9, 13, 14, 15, 16, 18)   \n",
       "\n",
       "                                            cv_scores   avg_score  \\\n",
       "19  [-144.0962441804929, -133.97696325400364, -116...  -137.40837   \n",
       "18  [-144.2170836744362, -134.05381940167, -116.18... -137.093907   \n",
       "17  [-143.75624751454518, -133.99898489399587, -11... -136.848803   \n",
       "16  [-143.6797467769223, -134.01189569804905, -116... -136.681694   \n",
       "15  [-143.31442835686494, -133.87286303812235, -11... -136.492339   \n",
       "14  [-142.2606489101067, -133.95201693729166, -116... -136.364198   \n",
       "13  [-142.27082036478737, -133.74386005216965, -11... -136.266089   \n",
       "12  [-142.31129006285983, -133.83680731567318, -11...  -136.25003   \n",
       "11  [-142.27813927420328, -133.83960847392945, -11... -136.237573   \n",
       "10  [-142.25302356039498, -133.83355795024247, -11... -136.231223   \n",
       "\n",
       "                                        feature_names   ci_bound    std_dev  \\\n",
       "19  (PM2.5, Land_EQI, Sociod_EQI, Built_EQI, CLU50...  16.215733  12.616391   \n",
       "18  (PM2.5, Land_EQI, Sociod_EQI, Built_EQI, CLU50...  15.557793  12.104491   \n",
       "17  (PM2.5, Land_EQI, Sociod_EQI, Built_EQI, PM10,...  15.275332  11.884727   \n",
       "16  (PM2.5, Land_EQI, Sociod_EQI, Built_EQI, PM10,...  15.136311  11.776564   \n",
       "15  (PM2.5, Land_EQI, Sociod_EQI, Built_EQI, PM10,...  15.000287  11.670733   \n",
       "14  (PM2.5, Land_EQI, Sociod_EQI, Built_EQI, PM10,...  14.831125  11.539119   \n",
       "13  (PM2.5, Land_EQI, Sociod_EQI, Built_EQI, PM10,...  14.855057  11.557739   \n",
       "12  (PM2.5, Land_EQI, Sociod_EQI, Built_EQI, PM10,...   14.96049  11.639769   \n",
       "11  (PM2.5, Land_EQI, Sociod_EQI, Built_EQI, PM10,...  14.960686  11.639922   \n",
       "10  (PM2.5, Land_EQI, Sociod_EQI, PM10, CO, Air_EQ...  14.957381  11.637351   \n",
       "\n",
       "     std_err  \n",
       "19  6.308196  \n",
       "18  6.052246  \n",
       "17  5.942363  \n",
       "16  5.888282  \n",
       "15  5.835366  \n",
       "14  5.769559  \n",
       "13   5.77887  \n",
       "12  5.819885  \n",
       "11  5.819961  \n",
       "10  5.818675  "
      ]
     },
     "execution_count": 22,
     "metadata": {},
     "output_type": "execute_result"
    }
   ],
   "source": [
    "from mlxtend.feature_selection import SequentialFeatureSelector as SFS\n",
    "# Initialize Linear Regression model\n",
    "model = Ridge(alpha=0.1)\n",
    "\n",
    "model.fit(X_train, y_train)\n",
    "predictions = model.predict(X_test)\n",
    "print(\"Mean Absolute Error:\", mean_absolute_error(y_test, predictions))\n",
    "print(\"Mean Squared Error:\", mean_squared_error(y_test, predictions))\n",
    "print(\"r2 score:\", r2_score(y_test, predictions))\n",
    "\n",
    "sfs_backward = SFS(model, \n",
    "                   k_features=10, \n",
    "                   forward=False, \n",
    "                   floating=False, \n",
    "                   scoring='neg_mean_squared_error',\n",
    "                   cv=5)\n",
    "\n",
    "sfs_backward = sfs_backward.fit(X_train, y_train)\n",
    "\n",
    "# Selected Features\n",
    "selected_features_backward = X_train.columns[list(sfs_backward.k_feature_idx_)]\n",
    "print('Selected features in Backward Selection:', selected_features_backward)\n",
    "print('Score',sfs_backward.k_score_)\n",
    "\n",
    "pd.DataFrame.from_dict(sfs_backward.get_metric_dict()).T"
   ]
  },
  {
   "cell_type": "code",
   "execution_count": 23,
   "metadata": {},
   "outputs": [
    {
     "data": {
      "image/png": "[encoded data removed]",
      "text/plain": [
       "<Figure size 640x480 with 1 Axes>"
      ]
     },
     "metadata": {},
     "output_type": "display_data"
    }
   ],
   "source": [
    "from mlxtend.plotting import plot_sequential_feature_selection as plot_sfs\n",
    "import matplotlib.pyplot as plt\n",
    "\n",
    "fig = plot_sfs(sfs_backward.get_metric_dict(), kind='std_dev')\n",
    "plt.title('Sequential Backward Selection (w. StdDev)')\n",
    "plt.grid()\n",
    "plt.show()"
   ]
  },
  {
   "cell_type": "code",
   "execution_count": 24,
   "metadata": {},
   "outputs": [
    {
     "data": {
      "text/plain": [
       "0.5495705552630902"
      ]
     },
     "execution_count": 24,
     "metadata": {},
     "output_type": "execute_result"
    }
   ],
   "source": [
    "from sklearn.model_selection import RepeatedKFold, cross_val_score\n",
    "\n",
    "X_train = X_train[selected_features_backward]\n",
    "X_test = X_test[selected_features_backward]\n",
    "\n",
    "repeatkf = RepeatedKFold(n_splits=5, n_repeats=10, random_state=156)\n",
    "\n",
    "np.mean(cross_val_score(model, X_train, y_train, cv=repeatkf, n_jobs=-1))\n",
    "\n"
   ]
  },
  {
   "cell_type": "code",
   "execution_count": 25,
   "metadata": {},
   "outputs": [
    {
     "name": "stdout",
     "output_type": "stream",
     "text": [
      "Fitting 5 folds for each of 20 candidates, totalling 100 fits\n",
      "Best parameters: {'alpha': 29.763514416313132}\n",
      "Best score: -136.17439391323012\n"
     ]
    }
   ],
   "source": [
    "# # insert gridsearch here\n",
    "from sklearn.model_selection import GridSearchCV\n",
    "\n",
    "param_grid = {'alpha': np.logspace(-4, 4, 20)}\n",
    "\n",
    "grid_search = GridSearchCV(estimator=model, param_grid=param_grid, scoring='neg_mean_squared_error', cv=5, verbose=1)\n",
    "\n",
    "grid_search.fit(X_train, y_train)\n",
    "\n",
    "print(\"Best parameters:\", grid_search.best_params_)\n",
    "print(\"Best score:\", grid_search.best_score_)\n",
    "\n",
    "# X_test = pd.read_csv('X_test.csv')\n",
    "# y_test = pd.read_csv('y_test.csv')\n",
    "\n",
    "# best_model = grid_search.best_estimator_\n",
    "# test_score = best_model.score(X_test, y_test)\n",
    "# print(\"Test set score of the best model:\", test_score)"
   ]
  },
  {
   "cell_type": "code",
   "execution_count": 26,
   "metadata": {},
   "outputs": [
    {
     "name": "stdout",
     "output_type": "stream",
     "text": [
      "Mean Absolute Error: 8.830992128077856\n",
      "Mean Squared Error: 123.01951827856368\n",
      "r2 score: 0.5796218349668891\n"
     ]
    }
   ],
   "source": [
    "predictions = grid_search.predict(X_test)\n",
    "print(\"Mean Absolute Error:\", mean_absolute_error(y_test, predictions))\n",
    "print(\"Mean Squared Error:\", mean_squared_error(y_test, predictions))\n",
    "print(\"r2 score:\", r2_score(y_test, predictions))"
   ]
  }
 ],
 "metadata": {
  "kernelspec": {
   "display_name": "Python 3 (ipykernel)",
   "language": "python",
   "name": "python3"
  },
  "language_info": {
   "codemirror_mode": {
    "name": "ipython",
    "version": 3
   },
   "file_extension": ".py",
   "mimetype": "text/x-python",
   "name": "python",
   "nbconvert_exporter": "python",
   "pygments_lexer": "ipython3",
   "version": "3.11.7"
  }
 },
 "nbformat": 4,
 "nbformat_minor": 4
}
