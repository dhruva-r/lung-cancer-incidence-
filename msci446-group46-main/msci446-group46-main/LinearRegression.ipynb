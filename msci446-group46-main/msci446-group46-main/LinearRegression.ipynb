{
 "cells": [
  {
   "cell_type": "markdown",
   "metadata": {},
   "source": [
    "# Linear Regression"
   ]
  },
  {
   "cell_type": "code",
   "execution_count": 33,
   "metadata": {},
   "outputs": [],
   "source": [
    "import pandas as pd\n",
    "import numpy as np\n",
    "\n",
    "import matplotlib.pyplot as plt\n",
    "import seaborn as sns\n",
    "%matplotlib inline\n",
    "\n",
    "import warnings\n",
    "warnings.filterwarnings('ignore')\n",
    "\n",
    "from sklearn.model_selection import cross_val_score, train_test_split, cross_validate\n",
    "from sklearn.linear_model import LinearRegression\n",
    "from sklearn.metrics import mean_squared_error, mean_absolute_error, r2_score"
   ]
  },
  {
   "cell_type": "code",
   "execution_count": 34,
   "metadata": {},
   "outputs": [],
   "source": [
    "X_train = pd.read_csv('X_train.csv', index_col=0)\n",
    "y_train = pd.read_csv('y_train.csv', index_col=0)\n",
    "X_test = pd.read_csv('X_test.csv', index_col=0)\n",
    "y_test = pd.read_csv('y_test.csv', index_col=0)\n"
   ]
  },
  {
   "cell_type": "code",
   "execution_count": 35,
   "metadata": {},
   "outputs": [
    {
     "name": "stdout",
     "output_type": "stream",
     "text": [
      "Mean Absolute Error: 8.83321479806559\n",
      "Mean Squared Error: 122.87931760735218\n",
      "r2 score: 0.5801009239905257\n",
      "Selected features in Backward Selection: Index(['PM2.5', 'Land_EQI', 'Sociod_EQI', 'PM10', 'CO', 'CS2', 'Water_EQI',\n",
      "       'EQI', 'smoking_data', 'UCI_smoking'],\n",
      "      dtype='object')\n",
      "Score -135.85930118797012\n"
     ]
    },
    {
     "data": {
      "text/html": [
       "<div>\n",
       "<style scoped>\n",
       "    .dataframe tbody tr th:only-of-type {\n",
       "        vertical-align: middle;\n",
       "    }\n",
       "\n",
       "    .dataframe tbody tr th {\n",
       "        vertical-align: top;\n",
       "    }\n",
       "\n",
       "    .dataframe thead th {\n",
       "        text-align: right;\n",
       "    }\n",
       "</style>\n",
       "<table border=\"1\" class=\"dataframe\">\n",
       "  <thead>\n",
       "    <tr style=\"text-align: right;\">\n",
       "      <th></th>\n",
       "      <th>feature_idx</th>\n",
       "      <th>cv_scores</th>\n",
       "      <th>avg_score</th>\n",
       "      <th>feature_names</th>\n",
       "      <th>ci_bound</th>\n",
       "      <th>std_dev</th>\n",
       "      <th>std_err</th>\n",
       "    </tr>\n",
       "  </thead>\n",
       "  <tbody>\n",
       "    <tr>\n",
       "      <th>19</th>\n",
       "      <td>(0, 1, 2, 3, 4, 5, 6, 7, 8, 9, 10, 11, 12, 13,...</td>\n",
       "      <td>[-144.25116376203678, -134.05403635676885, -11...</td>\n",
       "      <td>-137.472811</td>\n",
       "      <td>(PM2.5, Land_EQI, Sociod_EQI, Built_EQI, CLU50...</td>\n",
       "      <td>16.247771</td>\n",
       "      <td>12.641318</td>\n",
       "      <td>6.320659</td>\n",
       "    </tr>\n",
       "    <tr>\n",
       "      <th>18</th>\n",
       "      <td>(0, 1, 2, 3, 4, 5, 6, 7, 9, 10, 11, 12, 13, 14...</td>\n",
       "      <td>[-144.3669063215545, -134.12292394681447, -116...</td>\n",
       "      <td>-137.159436</td>\n",
       "      <td>(PM2.5, Land_EQI, Sociod_EQI, Built_EQI, CLU50...</td>\n",
       "      <td>15.596952</td>\n",
       "      <td>12.134959</td>\n",
       "      <td>6.067479</td>\n",
       "    </tr>\n",
       "    <tr>\n",
       "      <th>17</th>\n",
       "      <td>(0, 1, 2, 3, 5, 6, 7, 9, 10, 11, 12, 13, 14, 1...</td>\n",
       "      <td>[-143.91050535090918, -134.07231994302575, -11...</td>\n",
       "      <td>-136.917491</td>\n",
       "      <td>(PM2.5, Land_EQI, Sociod_EQI, Built_EQI, PM10,...</td>\n",
       "      <td>15.31619</td>\n",
       "      <td>11.916516</td>\n",
       "      <td>5.958258</td>\n",
       "    </tr>\n",
       "    <tr>\n",
       "      <th>16</th>\n",
       "      <td>(0, 1, 2, 3, 5, 7, 9, 10, 11, 12, 13, 14, 15, ...</td>\n",
       "      <td>[-143.83342304785492, -134.08634395266947, -11...</td>\n",
       "      <td>-136.749576</td>\n",
       "      <td>(PM2.5, Land_EQI, Sociod_EQI, Built_EQI, PM10,...</td>\n",
       "      <td>15.176144</td>\n",
       "      <td>11.807556</td>\n",
       "      <td>5.903778</td>\n",
       "    </tr>\n",
       "    <tr>\n",
       "      <th>15</th>\n",
       "      <td>(0, 1, 2, 3, 5, 9, 10, 11, 12, 13, 14, 15, 16,...</td>\n",
       "      <td>[-143.47737410391233, -133.9319252602685, -116...</td>\n",
       "      <td>-136.556732</td>\n",
       "      <td>(PM2.5, Land_EQI, Sociod_EQI, Built_EQI, PM10,...</td>\n",
       "      <td>15.040693</td>\n",
       "      <td>11.70217</td>\n",
       "      <td>5.851085</td>\n",
       "    </tr>\n",
       "    <tr>\n",
       "      <th>14</th>\n",
       "      <td>(0, 1, 2, 3, 5, 9, 10, 11, 12, 13, 14, 15, 16,...</td>\n",
       "      <td>[-142.44607565698502, -134.00643147375735, -11...</td>\n",
       "      <td>-136.429735</td>\n",
       "      <td>(PM2.5, Land_EQI, Sociod_EQI, Built_EQI, PM10,...</td>\n",
       "      <td>14.87141</td>\n",
       "      <td>11.570462</td>\n",
       "      <td>5.785231</td>\n",
       "    </tr>\n",
       "    <tr>\n",
       "      <th>13</th>\n",
       "      <td>(0, 1, 2, 3, 5, 9, 10, 12, 13, 14, 15, 16, 18)</td>\n",
       "      <td>[-142.45857484648133, -133.79487275103494, -11...</td>\n",
       "      <td>-136.329363</td>\n",
       "      <td>(PM2.5, Land_EQI, Sociod_EQI, Built_EQI, PM10,...</td>\n",
       "      <td>14.890439</td>\n",
       "      <td>11.585268</td>\n",
       "      <td>5.792634</td>\n",
       "    </tr>\n",
       "    <tr>\n",
       "      <th>12</th>\n",
       "      <td>(0, 1, 2, 5, 9, 10, 12, 13, 14, 15, 16, 18)</td>\n",
       "      <td>[-142.2466815525971, -133.7343985440095, -116....</td>\n",
       "      <td>-136.26222</td>\n",
       "      <td>(PM2.5, Land_EQI, Sociod_EQI, PM10, CO, CN, CS...</td>\n",
       "      <td>14.848415</td>\n",
       "      <td>11.552571</td>\n",
       "      <td>5.776286</td>\n",
       "    </tr>\n",
       "    <tr>\n",
       "      <th>11</th>\n",
       "      <td>(0, 1, 2, 5, 9, 10, 12, 14, 15, 16, 18)</td>\n",
       "      <td>[-141.2352301416279, -133.88461531782494, -116...</td>\n",
       "      <td>-135.898512</td>\n",
       "      <td>(PM2.5, Land_EQI, Sociod_EQI, PM10, CO, CN, CS...</td>\n",
       "      <td>14.274818</td>\n",
       "      <td>11.106293</td>\n",
       "      <td>5.553147</td>\n",
       "    </tr>\n",
       "    <tr>\n",
       "      <th>10</th>\n",
       "      <td>(0, 1, 2, 5, 9, 12, 14, 15, 16, 18)</td>\n",
       "      <td>[-141.1855097865135, -134.07618723374762, -115...</td>\n",
       "      <td>-135.859301</td>\n",
       "      <td>(PM2.5, Land_EQI, Sociod_EQI, PM10, CO, CS2, W...</td>\n",
       "      <td>14.347671</td>\n",
       "      <td>11.162976</td>\n",
       "      <td>5.581488</td>\n",
       "    </tr>\n",
       "  </tbody>\n",
       "</table>\n",
       "</div>"
      ],
      "text/plain": [
       "                                          feature_idx  \\\n",
       "19  (0, 1, 2, 3, 4, 5, 6, 7, 8, 9, 10, 11, 12, 13,...   \n",
       "18  (0, 1, 2, 3, 4, 5, 6, 7, 9, 10, 11, 12, 13, 14...   \n",
       "17  (0, 1, 2, 3, 5, 6, 7, 9, 10, 11, 12, 13, 14, 1...   \n",
       "16  (0, 1, 2, 3, 5, 7, 9, 10, 11, 12, 13, 14, 15, ...   \n",
       "15  (0, 1, 2, 3, 5, 9, 10, 11, 12, 13, 14, 15, 16,...   \n",
       "14  (0, 1, 2, 3, 5, 9, 10, 11, 12, 13, 14, 15, 16,...   \n",
       "13     (0, 1, 2, 3, 5, 9, 10, 12, 13, 14, 15, 16, 18)   \n",
       "12        (0, 1, 2, 5, 9, 10, 12, 13, 14, 15, 16, 18)   \n",
       "11            (0, 1, 2, 5, 9, 10, 12, 14, 15, 16, 18)   \n",
       "10                (0, 1, 2, 5, 9, 12, 14, 15, 16, 18)   \n",
       "\n",
       "                                            cv_scores   avg_score  \\\n",
       "19  [-144.25116376203678, -134.05403635676885, -11... -137.472811   \n",
       "18  [-144.3669063215545, -134.12292394681447, -116... -137.159436   \n",
       "17  [-143.91050535090918, -134.07231994302575, -11... -136.917491   \n",
       "16  [-143.83342304785492, -134.08634395266947, -11... -136.749576   \n",
       "15  [-143.47737410391233, -133.9319252602685, -116... -136.556732   \n",
       "14  [-142.44607565698502, -134.00643147375735, -11... -136.429735   \n",
       "13  [-142.45857484648133, -133.79487275103494, -11... -136.329363   \n",
       "12  [-142.2466815525971, -133.7343985440095, -116....  -136.26222   \n",
       "11  [-141.2352301416279, -133.88461531782494, -116... -135.898512   \n",
       "10  [-141.1855097865135, -134.07618723374762, -115... -135.859301   \n",
       "\n",
       "                                        feature_names   ci_bound    std_dev  \\\n",
       "19  (PM2.5, Land_EQI, Sociod_EQI, Built_EQI, CLU50...  16.247771  12.641318   \n",
       "18  (PM2.5, Land_EQI, Sociod_EQI, Built_EQI, CLU50...  15.596952  12.134959   \n",
       "17  (PM2.5, Land_EQI, Sociod_EQI, Built_EQI, PM10,...   15.31619  11.916516   \n",
       "16  (PM2.5, Land_EQI, Sociod_EQI, Built_EQI, PM10,...  15.176144  11.807556   \n",
       "15  (PM2.5, Land_EQI, Sociod_EQI, Built_EQI, PM10,...  15.040693   11.70217   \n",
       "14  (PM2.5, Land_EQI, Sociod_EQI, Built_EQI, PM10,...   14.87141  11.570462   \n",
       "13  (PM2.5, Land_EQI, Sociod_EQI, Built_EQI, PM10,...  14.890439  11.585268   \n",
       "12  (PM2.5, Land_EQI, Sociod_EQI, PM10, CO, CN, CS...  14.848415  11.552571   \n",
       "11  (PM2.5, Land_EQI, Sociod_EQI, PM10, CO, CN, CS...  14.274818  11.106293   \n",
       "10  (PM2.5, Land_EQI, Sociod_EQI, PM10, CO, CS2, W...  14.347671  11.162976   \n",
       "\n",
       "     std_err  \n",
       "19  6.320659  \n",
       "18  6.067479  \n",
       "17  5.958258  \n",
       "16  5.903778  \n",
       "15  5.851085  \n",
       "14  5.785231  \n",
       "13  5.792634  \n",
       "12  5.776286  \n",
       "11  5.553147  \n",
       "10  5.581488  "
      ]
     },
     "execution_count": 35,
     "metadata": {},
     "output_type": "execute_result"
    }
   ],
   "source": [
    "from mlxtend.feature_selection import SequentialFeatureSelector as SFS\n",
    "# Initialize Linear Regression model\n",
    "model = LinearRegression()\n",
    "\n",
    "model.fit(X_train, y_train)\n",
    "predictions = model.predict(X_test)\n",
    "print(\"Mean Absolute Error:\", mean_absolute_error(y_test, predictions))\n",
    "print(\"Mean Squared Error:\", mean_squared_error(y_test, predictions))\n",
    "print(\"r2 score:\", r2_score(y_test, predictions))\n",
    "\n",
    "sfs_backward = SFS(model, \n",
    "                   k_features=10, \n",
    "                   forward=False, \n",
    "                   floating=False, \n",
    "                   scoring='neg_mean_squared_error',\n",
    "                   cv=5)\n",
    "\n",
    "sfs_backward = sfs_backward.fit(X_train, y_train)\n",
    "\n",
    "# Selected Features\n",
    "selected_features_backward = X_train.columns[list(sfs_backward.k_feature_idx_)]\n",
    "print('Selected features in Backward Selection:', selected_features_backward)\n",
    "print('Score',sfs_backward.k_score_)\n",
    "\n",
    "pd.DataFrame.from_dict(sfs_backward.get_metric_dict()).T"
   ]
  },
  {
   "cell_type": "code",
   "execution_count": 36,
   "metadata": {},
   "outputs": [
    {
     "data": {
      "image/png": "[encoded data removed]",
      "text/plain": [
       "<Figure size 640x480 with 1 Axes>"
      ]
     },
     "metadata": {},
     "output_type": "display_data"
    }
   ],
   "source": [
    "from mlxtend.plotting import plot_sequential_feature_selection as plot_sfs\n",
    "import matplotlib.pyplot as plt\n",
    "\n",
    "fig = plot_sfs(sfs_backward.get_metric_dict(), kind='std_dev')\n",
    "plt.title('Sequential Backward Selection (w. StdDev)')\n",
    "plt.grid()\n",
    "plt.show()"
   ]
  },
  {
   "cell_type": "code",
   "execution_count": 37,
   "metadata": {},
   "outputs": [
    {
     "data": {
      "text/plain": [
       "0.5495945325516232"
      ]
     },
     "execution_count": 37,
     "metadata": {},
     "output_type": "execute_result"
    }
   ],
   "source": [
    "from sklearn.model_selection import RepeatedKFold, cross_val_score\n",
    "\n",
    "X_train = X_train[selected_features_backward]\n",
    "X_test = X_test[selected_features_backward]\n",
    "\n",
    "repeatkf = RepeatedKFold(n_splits=5, n_repeats=10, random_state=156)\n",
    "\n",
    "np.mean(cross_val_score(model, X_train, y_train, cv=repeatkf, n_jobs=-1))\n",
    "\n"
   ]
  },
  {
   "cell_type": "code",
   "execution_count": 38,
   "metadata": {},
   "outputs": [
    {
     "name": "stdout",
     "output_type": "stream",
     "text": [
      "Mean Absolute Error: 8.854918244989832\n",
      "Mean Squared Error: 123.3853647856332\n",
      "r2 score: 0.578371676573508\n"
     ]
    }
   ],
   "source": [
    "model.fit(X_train, y_train)\n",
    "predictions = model.predict(X_test)\n",
    "print(\"Mean Absolute Error:\", mean_absolute_error(y_test, predictions))\n",
    "print(\"Mean Squared Error:\", mean_squared_error(y_test, predictions))\n",
    "print(\"r2 score:\", r2_score(y_test, predictions))"
   ]
  },
  {
   "cell_type": "code",
   "execution_count": null,
   "metadata": {},
   "outputs": [],
   "source": []
  },
  {
   "cell_type": "code",
   "execution_count": null,
   "metadata": {},
   "outputs": [],
   "source": []
  }
 ],
 "metadata": {
  "kernelspec": {
   "display_name": "Python 3 (ipykernel)",
   "language": "python",
   "name": "python3"
  },
  "language_info": {
   "codemirror_mode": {
    "name": "ipython",
    "version": 3
   },
   "file_extension": ".py",
   "mimetype": "text/x-python",
   "name": "python",
   "nbconvert_exporter": "python",
   "pygments_lexer": "ipython3",
   "version": "3.11.7"
  }
 },
 "nbformat": 4,
 "nbformat_minor": 4
}
