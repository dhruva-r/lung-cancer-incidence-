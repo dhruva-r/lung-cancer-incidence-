{
 "cells": [
  {
   "cell_type": "markdown",
   "metadata": {},
   "source": [
    "# Lasso Regression"
   ]
  },
  {
   "cell_type": "code",
   "execution_count": 12,
   "metadata": {},
   "outputs": [],
   "source": [
    "import pandas as pd\n",
    "import numpy as np\n",
    "\n",
    "import matplotlib.pyplot as plt\n",
    "import seaborn as sns\n",
    "%matplotlib inline\n",
    "\n",
    "import warnings\n",
    "warnings.filterwarnings('ignore')\n",
    "\n",
    "from sklearn.model_selection import cross_val_score, train_test_split, cross_validate\n",
    "from sklearn.linear_model import Lasso\n",
    "from sklearn.metrics import mean_squared_error, mean_absolute_error, r2_score"
   ]
  },
  {
   "cell_type": "code",
   "execution_count": 13,
   "metadata": {},
   "outputs": [],
   "source": [
    "X_train = pd.read_csv('X_train.csv', index_col=0)\n",
    "y_train = pd.read_csv('y_train.csv', index_col=0)\n",
    "X_test = pd.read_csv('X_test.csv', index_col=0)\n",
    "y_test = pd.read_csv('y_test.csv', index_col=0)\n"
   ]
  },
  {
   "cell_type": "code",
   "execution_count": 14,
   "metadata": {},
   "outputs": [
    {
     "name": "stdout",
     "output_type": "stream",
     "text": [
      "Mean Absolute Error: 8.849299940413069\n",
      "Mean Squared Error: 123.02942554756467\n",
      "r2 score: 0.5795879801800927\n",
      "Selected features in Backward Selection: Index(['PM2.5', 'Land_EQI', 'Sociod_EQI', 'PM10', 'CO', 'CN', 'Water_EQI',\n",
      "       'EQI', 'smoking_data', 'LCI_smoking'],\n",
      "      dtype='object')\n",
      "Score -135.9016548236139\n"
     ]
    },
    {
     "data": {
      "text/html": [
       "<div>\n",
       "<style scoped>\n",
       "    .dataframe tbody tr th:only-of-type {\n",
       "        vertical-align: middle;\n",
       "    }\n",
       "\n",
       "    .dataframe tbody tr th {\n",
       "        vertical-align: top;\n",
       "    }\n",
       "\n",
       "    .dataframe thead th {\n",
       "        text-align: right;\n",
       "    }\n",
       "</style>\n",
       "<table border=\"1\" class=\"dataframe\">\n",
       "  <thead>\n",
       "    <tr style=\"text-align: right;\">\n",
       "      <th></th>\n",
       "      <th>feature_idx</th>\n",
       "      <th>cv_scores</th>\n",
       "      <th>avg_score</th>\n",
       "      <th>feature_names</th>\n",
       "      <th>ci_bound</th>\n",
       "      <th>std_dev</th>\n",
       "      <th>std_err</th>\n",
       "    </tr>\n",
       "  </thead>\n",
       "  <tbody>\n",
       "    <tr>\n",
       "      <th>19</th>\n",
       "      <td>(0, 1, 2, 3, 4, 5, 6, 7, 8, 9, 10, 11, 12, 13,...</td>\n",
       "      <td>[-143.56144364687256, -134.25841434371165, -11...</td>\n",
       "      <td>-137.120789</td>\n",
       "      <td>(PM2.5, Land_EQI, Sociod_EQI, Built_EQI, CLU50...</td>\n",
       "      <td>16.878307</td>\n",
       "      <td>13.131896</td>\n",
       "      <td>6.565948</td>\n",
       "    </tr>\n",
       "    <tr>\n",
       "      <th>18</th>\n",
       "      <td>(0, 1, 2, 3, 4, 5, 6, 7, 9, 10, 11, 12, 13, 14...</td>\n",
       "      <td>[-143.6856424812561, -134.43947223500186, -114...</td>\n",
       "      <td>-136.792901</td>\n",
       "      <td>(PM2.5, Land_EQI, Sociod_EQI, Built_EQI, CLU50...</td>\n",
       "      <td>16.127524</td>\n",
       "      <td>12.547762</td>\n",
       "      <td>6.273881</td>\n",
       "    </tr>\n",
       "    <tr>\n",
       "      <th>17</th>\n",
       "      <td>(0, 1, 2, 3, 4, 5, 6, 7, 9, 10, 11, 12, 14, 15...</td>\n",
       "      <td>[-143.32098317181328, -134.4394721679105, -114...</td>\n",
       "      <td>-136.51295</td>\n",
       "      <td>(PM2.5, Land_EQI, Sociod_EQI, Built_EQI, CLU50...</td>\n",
       "      <td>15.712574</td>\n",
       "      <td>12.224916</td>\n",
       "      <td>6.112458</td>\n",
       "    </tr>\n",
       "    <tr>\n",
       "      <th>16</th>\n",
       "      <td>(0, 1, 2, 3, 5, 6, 7, 9, 10, 11, 12, 14, 15, 1...</td>\n",
       "      <td>[-143.05505407219047, -134.33148301847027, -11...</td>\n",
       "      <td>-136.261998</td>\n",
       "      <td>(PM2.5, Land_EQI, Sociod_EQI, Built_EQI, PM10,...</td>\n",
       "      <td>15.439135</td>\n",
       "      <td>12.012171</td>\n",
       "      <td>6.006086</td>\n",
       "    </tr>\n",
       "    <tr>\n",
       "      <th>15</th>\n",
       "      <td>(0, 1, 2, 3, 5, 7, 9, 10, 11, 12, 14, 15, 16, ...</td>\n",
       "      <td>[-143.00600951865374, -134.33591637603686, -11...</td>\n",
       "      <td>-136.131077</td>\n",
       "      <td>(PM2.5, Land_EQI, Sociod_EQI, Built_EQI, PM10,...</td>\n",
       "      <td>15.399128</td>\n",
       "      <td>11.981045</td>\n",
       "      <td>5.990522</td>\n",
       "    </tr>\n",
       "    <tr>\n",
       "      <th>14</th>\n",
       "      <td>(0, 1, 2, 3, 5, 9, 10, 11, 12, 14, 15, 16, 17,...</td>\n",
       "      <td>[-142.8060190038371, -134.1547045508986, -114....</td>\n",
       "      <td>-135.950191</td>\n",
       "      <td>(PM2.5, Land_EQI, Sociod_EQI, Built_EQI, PM10,...</td>\n",
       "      <td>15.261334</td>\n",
       "      <td>11.873837</td>\n",
       "      <td>5.936918</td>\n",
       "    </tr>\n",
       "    <tr>\n",
       "      <th>13</th>\n",
       "      <td>(0, 1, 2, 5, 9, 10, 11, 12, 14, 15, 16, 17, 18)</td>\n",
       "      <td>[-142.6165983637125, -134.15470381704037, -114...</td>\n",
       "      <td>-135.911119</td>\n",
       "      <td>(PM2.5, Land_EQI, Sociod_EQI, PM10, CO, CN, Di...</td>\n",
       "      <td>15.240607</td>\n",
       "      <td>11.85771</td>\n",
       "      <td>5.928855</td>\n",
       "    </tr>\n",
       "    <tr>\n",
       "      <th>12</th>\n",
       "      <td>(0, 1, 2, 5, 9, 10, 11, 12, 14, 15, 16, 17)</td>\n",
       "      <td>[-142.56929853353034, -134.15471392179793, -11...</td>\n",
       "      <td>-135.901658</td>\n",
       "      <td>(PM2.5, Land_EQI, Sociod_EQI, PM10, CO, CN, Di...</td>\n",
       "      <td>15.233754</td>\n",
       "      <td>11.852378</td>\n",
       "      <td>5.926189</td>\n",
       "    </tr>\n",
       "    <tr>\n",
       "      <th>11</th>\n",
       "      <td>(0, 1, 2, 5, 9, 10, 12, 14, 15, 16, 17)</td>\n",
       "      <td>[-142.5692986962115, -134.15470168992357, -114...</td>\n",
       "      <td>-135.901655</td>\n",
       "      <td>(PM2.5, Land_EQI, Sociod_EQI, PM10, CO, CN, CS...</td>\n",
       "      <td>15.233756</td>\n",
       "      <td>11.852379</td>\n",
       "      <td>5.92619</td>\n",
       "    </tr>\n",
       "    <tr>\n",
       "      <th>10</th>\n",
       "      <td>(0, 1, 2, 5, 9, 10, 14, 15, 16, 17)</td>\n",
       "      <td>[-142.5692986962115, -134.15470168992354, -114...</td>\n",
       "      <td>-135.901655</td>\n",
       "      <td>(PM2.5, Land_EQI, Sociod_EQI, PM10, CO, CN, Wa...</td>\n",
       "      <td>15.233756</td>\n",
       "      <td>11.852379</td>\n",
       "      <td>5.92619</td>\n",
       "    </tr>\n",
       "  </tbody>\n",
       "</table>\n",
       "</div>"
      ],
      "text/plain": [
       "                                          feature_idx  \\\n",
       "19  (0, 1, 2, 3, 4, 5, 6, 7, 8, 9, 10, 11, 12, 13,...   \n",
       "18  (0, 1, 2, 3, 4, 5, 6, 7, 9, 10, 11, 12, 13, 14...   \n",
       "17  (0, 1, 2, 3, 4, 5, 6, 7, 9, 10, 11, 12, 14, 15...   \n",
       "16  (0, 1, 2, 3, 5, 6, 7, 9, 10, 11, 12, 14, 15, 1...   \n",
       "15  (0, 1, 2, 3, 5, 7, 9, 10, 11, 12, 14, 15, 16, ...   \n",
       "14  (0, 1, 2, 3, 5, 9, 10, 11, 12, 14, 15, 16, 17,...   \n",
       "13    (0, 1, 2, 5, 9, 10, 11, 12, 14, 15, 16, 17, 18)   \n",
       "12        (0, 1, 2, 5, 9, 10, 11, 12, 14, 15, 16, 17)   \n",
       "11            (0, 1, 2, 5, 9, 10, 12, 14, 15, 16, 17)   \n",
       "10                (0, 1, 2, 5, 9, 10, 14, 15, 16, 17)   \n",
       "\n",
       "                                            cv_scores   avg_score  \\\n",
       "19  [-143.56144364687256, -134.25841434371165, -11... -137.120789   \n",
       "18  [-143.6856424812561, -134.43947223500186, -114... -136.792901   \n",
       "17  [-143.32098317181328, -134.4394721679105, -114...  -136.51295   \n",
       "16  [-143.05505407219047, -134.33148301847027, -11... -136.261998   \n",
       "15  [-143.00600951865374, -134.33591637603686, -11... -136.131077   \n",
       "14  [-142.8060190038371, -134.1547045508986, -114.... -135.950191   \n",
       "13  [-142.6165983637125, -134.15470381704037, -114... -135.911119   \n",
       "12  [-142.56929853353034, -134.15471392179793, -11... -135.901658   \n",
       "11  [-142.5692986962115, -134.15470168992357, -114... -135.901655   \n",
       "10  [-142.5692986962115, -134.15470168992354, -114... -135.901655   \n",
       "\n",
       "                                        feature_names   ci_bound    std_dev  \\\n",
       "19  (PM2.5, Land_EQI, Sociod_EQI, Built_EQI, CLU50...  16.878307  13.131896   \n",
       "18  (PM2.5, Land_EQI, Sociod_EQI, Built_EQI, CLU50...  16.127524  12.547762   \n",
       "17  (PM2.5, Land_EQI, Sociod_EQI, Built_EQI, CLU50...  15.712574  12.224916   \n",
       "16  (PM2.5, Land_EQI, Sociod_EQI, Built_EQI, PM10,...  15.439135  12.012171   \n",
       "15  (PM2.5, Land_EQI, Sociod_EQI, Built_EQI, PM10,...  15.399128  11.981045   \n",
       "14  (PM2.5, Land_EQI, Sociod_EQI, Built_EQI, PM10,...  15.261334  11.873837   \n",
       "13  (PM2.5, Land_EQI, Sociod_EQI, PM10, CO, CN, Di...  15.240607   11.85771   \n",
       "12  (PM2.5, Land_EQI, Sociod_EQI, PM10, CO, CN, Di...  15.233754  11.852378   \n",
       "11  (PM2.5, Land_EQI, Sociod_EQI, PM10, CO, CN, CS...  15.233756  11.852379   \n",
       "10  (PM2.5, Land_EQI, Sociod_EQI, PM10, CO, CN, Wa...  15.233756  11.852379   \n",
       "\n",
       "     std_err  \n",
       "19  6.565948  \n",
       "18  6.273881  \n",
       "17  6.112458  \n",
       "16  6.006086  \n",
       "15  5.990522  \n",
       "14  5.936918  \n",
       "13  5.928855  \n",
       "12  5.926189  \n",
       "11   5.92619  \n",
       "10   5.92619  "
      ]
     },
     "execution_count": 14,
     "metadata": {},
     "output_type": "execute_result"
    }
   ],
   "source": [
    "from mlxtend.feature_selection import SequentialFeatureSelector as SFS\n",
    "# Initialize Linear Regression model\n",
    "model = Lasso(alpha=0.1)\n",
    "\n",
    "model.fit(X_train, y_train)\n",
    "predictions = model.predict(X_test)\n",
    "print(\"Mean Absolute Error:\", mean_absolute_error(y_test, predictions))\n",
    "print(\"Mean Squared Error:\", mean_squared_error(y_test, predictions))\n",
    "print(\"r2 score:\", r2_score(y_test, predictions))\n",
    "\n",
    "sfs_backward = SFS(model, \n",
    "                   k_features=10, \n",
    "                   forward=False, \n",
    "                   floating=False, \n",
    "                   scoring='neg_mean_squared_error',\n",
    "                   cv=5)\n",
    "\n",
    "sfs_backward = sfs_backward.fit(X_train, y_train)\n",
    "\n",
    "# Selected Features\n",
    "selected_features_backward = X_train.columns[list(sfs_backward.k_feature_idx_)]\n",
    "print('Selected features in Backward Selection:', selected_features_backward)\n",
    "print('Score',sfs_backward.k_score_)\n",
    "\n",
    "pd.DataFrame.from_dict(sfs_backward.get_metric_dict()).T"
   ]
  },
  {
   "cell_type": "code",
   "execution_count": 15,
   "metadata": {},
   "outputs": [
    {
     "data": {
      "image/png": "[encoded data removed]",
      "text/plain": [
       "<Figure size 640x480 with 1 Axes>"
      ]
     },
     "metadata": {},
     "output_type": "display_data"
    }
   ],
   "source": [
    "from mlxtend.plotting import plot_sequential_feature_selection as plot_sfs\n",
    "import matplotlib.pyplot as plt\n",
    "\n",
    "fig = plot_sfs(sfs_backward.get_metric_dict(), kind='std_dev')\n",
    "plt.title('Sequential Backward Selection (w. StdDev)')\n",
    "plt.grid()\n",
    "plt.show()"
   ]
  },
  {
   "cell_type": "code",
   "execution_count": 16,
   "metadata": {},
   "outputs": [
    {
     "data": {
      "text/plain": [
       "0.5507442970372491"
      ]
     },
     "execution_count": 16,
     "metadata": {},
     "output_type": "execute_result"
    }
   ],
   "source": [
    "from sklearn.model_selection import RepeatedKFold, cross_val_score\n",
    "\n",
    "X_train = X_train[selected_features_backward]\n",
    "X_test = X_test[selected_features_backward]\n",
    "\n",
    "repeatkf = RepeatedKFold(n_splits=5, n_repeats=10, random_state=156)\n",
    "\n",
    "np.mean(cross_val_score(model, X_train, y_train, cv=repeatkf, n_jobs=-1))\n",
    "\n"
   ]
  },
  {
   "cell_type": "code",
   "execution_count": 17,
   "metadata": {},
   "outputs": [
    {
     "name": "stdout",
     "output_type": "stream",
     "text": [
      "Fitting 5 folds for each of 20 candidates, totalling 100 fits\n",
      "Best parameters: {'alpha': 0.03359818286283781}\n",
      "Best score: -135.8554546440579\n"
     ]
    }
   ],
   "source": [
    "# # insert gridsearch here\n",
    "from sklearn.model_selection import GridSearchCV\n",
    "\n",
    "param_grid = {'alpha': np.logspace(-4, 4, 20)}\n",
    "\n",
    "grid_search = GridSearchCV(estimator=model, param_grid=param_grid, scoring='neg_mean_squared_error', cv=5, verbose=1)\n",
    "\n",
    "grid_search.fit(X_train, y_train)\n",
    "\n",
    "print(\"Best parameters:\", grid_search.best_params_)\n",
    "print(\"Best score:\", grid_search.best_score_)\n",
    "\n",
    "# X_test = pd.read_csv('X_test.csv')\n",
    "# y_test = pd.read_csv('y_test.csv')\n",
    "\n",
    "# best_model = grid_search.best_estimator_\n",
    "# test_score = best_model.score(X_test, y_test)\n",
    "# print(\"Test set score of the best model:\", test_score)"
   ]
  },
  {
   "cell_type": "code",
   "execution_count": 18,
   "metadata": {},
   "outputs": [
    {
     "name": "stdout",
     "output_type": "stream",
     "text": [
      "Mean Absolute Error: 8.841014055672982\n",
      "Mean Squared Error: 122.84214320906545\n",
      "r2 score: 0.5802279550954808\n"
     ]
    }
   ],
   "source": [
    "\n",
    "\n",
    "predictions = grid_search.predict(X_test)\n",
    "print(\"Mean Absolute Error:\", mean_absolute_error(y_test, predictions))\n",
    "print(\"Mean Squared Error:\", mean_squared_error(y_test, predictions))\n",
    "print(\"r2 score:\", r2_score(y_test, predictions))"
   ]
  },
  {
   "cell_type": "code",
   "execution_count": null,
   "metadata": {},
   "outputs": [],
   "source": []
  }
 ],
 "metadata": {
  "kernelspec": {
   "display_name": "Python 3 (ipykernel)",
   "language": "python",
   "name": "python3"
  },
  "language_info": {
   "codemirror_mode": {
    "name": "ipython",
    "version": 3
   },
   "file_extension": ".py",
   "mimetype": "text/x-python",
   "name": "python",
   "nbconvert_exporter": "python",
   "pygments_lexer": "ipython3",
   "version": "3.11.7"
  }
 },
 "nbformat": 4,
 "nbformat_minor": 4
}
