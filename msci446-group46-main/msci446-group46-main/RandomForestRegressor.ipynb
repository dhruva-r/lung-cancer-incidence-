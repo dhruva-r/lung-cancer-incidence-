{
 "cells": [
  {
   "cell_type": "code",
   "execution_count": 1,
   "id": "d50e48b3",
   "metadata": {},
   "outputs": [],
   "source": [
    "from sklearn.ensemble import RandomForestRegressor\n",
    "\n",
    "import pandas as pd\n",
    "import numpy as np\n",
    "import matplotlib.pyplot as plt\n",
    "import seaborn as sns\n",
    "\n",
    "#import warnings\n",
    "#warnings.filterwarnings('ignore')\n",
    "\n",
    "from sklearn.model_selection import train_test_split, cross_val_score, cross_validate\n",
    "from sklearn.metrics import classification_report, accuracy_score, f1_score, mean_squared_error, mean_absolute_error, r2_score"
   ]
  },
  {
   "cell_type": "code",
   "execution_count": 2,
   "id": "487940fd",
   "metadata": {},
   "outputs": [
    {
     "name": "stdout",
     "output_type": "stream",
     "text": [
      "test\n"
     ]
    }
   ],
   "source": [
    "X_train = pd.read_csv('X_train.csv', index_col=0)\n",
    "y_train = pd.read_csv('y_train.csv')['Lung Cancer']\n",
    "\n",
    "X_test = pd.read_csv('X_test.csv', index_col=0)\n",
    "y_test = pd.read_csv('y_test.csv')['Lung Cancer']\n",
    "print(\"test\")"
   ]
  },
  {
   "cell_type": "code",
   "execution_count": 3,
   "id": "c5958ee7",
   "metadata": {},
   "outputs": [
    {
     "name": "stdout",
     "output_type": "stream",
     "text": [
      "Selected features in Backward Selection: Index(['PM2.5', 'Sociod_EQI', 'CLU50_1', 'SO2', 'NO2', 'O3', 'CO', 'Air_EQI',\n",
      "       'Water_EQI', 'smoking_data'],\n",
      "      dtype='object')\n",
      "Score -119.6200129040964\n"
     ]
    },
    {
     "data": {
      "text/html": [
       "<div>\n",
       "<style scoped>\n",
       "    .dataframe tbody tr th:only-of-type {\n",
       "        vertical-align: middle;\n",
       "    }\n",
       "\n",
       "    .dataframe tbody tr th {\n",
       "        vertical-align: top;\n",
       "    }\n",
       "\n",
       "    .dataframe thead th {\n",
       "        text-align: right;\n",
       "    }\n",
       "</style>\n",
       "<table border=\"1\" class=\"dataframe\">\n",
       "  <thead>\n",
       "    <tr style=\"text-align: right;\">\n",
       "      <th></th>\n",
       "      <th>feature_idx</th>\n",
       "      <th>cv_scores</th>\n",
       "      <th>avg_score</th>\n",
       "      <th>feature_names</th>\n",
       "      <th>ci_bound</th>\n",
       "      <th>std_dev</th>\n",
       "      <th>std_err</th>\n",
       "    </tr>\n",
       "  </thead>\n",
       "  <tbody>\n",
       "    <tr>\n",
       "      <th>19</th>\n",
       "      <td>(0, 1, 2, 3, 4, 5, 6, 7, 8, 9, 10, 11, 12, 13,...</td>\n",
       "      <td>[-148.64884949397586, -122.40860521445784, -97...</td>\n",
       "      <td>-123.78805</td>\n",
       "      <td>(PM2.5, Land_EQI, Sociod_EQI, Built_EQI, CLU50...</td>\n",
       "      <td>20.744505</td>\n",
       "      <td>16.139929</td>\n",
       "      <td>8.069965</td>\n",
       "    </tr>\n",
       "    <tr>\n",
       "      <th>18</th>\n",
       "      <td>(0, 1, 2, 3, 4, 5, 6, 7, 8, 9, 10, 11, 12, 13,...</td>\n",
       "      <td>[-143.95482067469874, -121.77773647228915, -98...</td>\n",
       "      <td>-122.399308</td>\n",
       "      <td>(PM2.5, Land_EQI, Sociod_EQI, Built_EQI, CLU50...</td>\n",
       "      <td>18.466889</td>\n",
       "      <td>14.367867</td>\n",
       "      <td>7.183934</td>\n",
       "    </tr>\n",
       "    <tr>\n",
       "      <th>17</th>\n",
       "      <td>(0, 1, 2, 3, 4, 5, 6, 7, 8, 9, 10, 11, 13, 14,...</td>\n",
       "      <td>[-143.5575907469879, -121.91546767228918, -94....</td>\n",
       "      <td>-122.302359</td>\n",
       "      <td>(PM2.5, Land_EQI, Sociod_EQI, Built_EQI, CLU50...</td>\n",
       "      <td>20.349614</td>\n",
       "      <td>15.832691</td>\n",
       "      <td>7.916346</td>\n",
       "    </tr>\n",
       "    <tr>\n",
       "      <th>16</th>\n",
       "      <td>(0, 1, 2, 3, 4, 5, 6, 7, 8, 9, 10, 11, 13, 14,...</td>\n",
       "      <td>[-141.92158332530116, -122.17967773493974, -91...</td>\n",
       "      <td>-120.837281</td>\n",
       "      <td>(PM2.5, Land_EQI, Sociod_EQI, Built_EQI, CLU50...</td>\n",
       "      <td>21.033008</td>\n",
       "      <td>16.364395</td>\n",
       "      <td>8.182197</td>\n",
       "    </tr>\n",
       "    <tr>\n",
       "      <th>15</th>\n",
       "      <td>(0, 1, 2, 4, 5, 6, 7, 8, 9, 10, 11, 13, 14, 15...</td>\n",
       "      <td>[-142.13375687710837, -121.14222317108434, -93...</td>\n",
       "      <td>-120.168765</td>\n",
       "      <td>(PM2.5, Land_EQI, Sociod_EQI, CLU50_1, PM10, S...</td>\n",
       "      <td>20.07064</td>\n",
       "      <td>15.61564</td>\n",
       "      <td>7.80782</td>\n",
       "    </tr>\n",
       "    <tr>\n",
       "      <th>14</th>\n",
       "      <td>(0, 1, 2, 4, 5, 6, 7, 8, 9, 10, 11, 13, 14, 16)</td>\n",
       "      <td>[-142.07381747469873, -119.380500626506, -92.7...</td>\n",
       "      <td>-119.897372</td>\n",
       "      <td>(PM2.5, Land_EQI, Sociod_EQI, CLU50_1, PM10, S...</td>\n",
       "      <td>20.268069</td>\n",
       "      <td>15.769246</td>\n",
       "      <td>7.884623</td>\n",
       "    </tr>\n",
       "    <tr>\n",
       "      <th>13</th>\n",
       "      <td>(0, 1, 2, 4, 6, 7, 8, 9, 10, 11, 13, 14, 16)</td>\n",
       "      <td>[-140.0286305542168, -121.33875079518072, -92....</td>\n",
       "      <td>-119.046578</td>\n",
       "      <td>(PM2.5, Land_EQI, Sociod_EQI, CLU50_1, SO2, NO...</td>\n",
       "      <td>19.844225</td>\n",
       "      <td>15.439481</td>\n",
       "      <td>7.719741</td>\n",
       "    </tr>\n",
       "    <tr>\n",
       "      <th>12</th>\n",
       "      <td>(0, 2, 4, 6, 7, 8, 9, 10, 11, 13, 14, 16)</td>\n",
       "      <td>[-140.5019752963855, -121.12163113253013, -92....</td>\n",
       "      <td>-119.425791</td>\n",
       "      <td>(PM2.5, Sociod_EQI, CLU50_1, SO2, NO2, O3, CO,...</td>\n",
       "      <td>19.78933</td>\n",
       "      <td>15.396771</td>\n",
       "      <td>7.698386</td>\n",
       "    </tr>\n",
       "    <tr>\n",
       "      <th>11</th>\n",
       "      <td>(0, 2, 4, 6, 7, 8, 9, 11, 13, 14, 16)</td>\n",
       "      <td>[-142.43057373493968, -120.26537691566266, -92...</td>\n",
       "      <td>-119.496117</td>\n",
       "      <td>(PM2.5, Sociod_EQI, CLU50_1, SO2, NO2, O3, CO,...</td>\n",
       "      <td>20.609684</td>\n",
       "      <td>16.035034</td>\n",
       "      <td>8.017517</td>\n",
       "    </tr>\n",
       "    <tr>\n",
       "      <th>10</th>\n",
       "      <td>(0, 2, 4, 6, 7, 8, 9, 13, 14, 16)</td>\n",
       "      <td>[-143.96584968674694, -119.15753906506022, -92...</td>\n",
       "      <td>-119.620013</td>\n",
       "      <td>(PM2.5, Sociod_EQI, CLU50_1, SO2, NO2, O3, CO,...</td>\n",
       "      <td>20.874789</td>\n",
       "      <td>16.241295</td>\n",
       "      <td>8.120647</td>\n",
       "    </tr>\n",
       "  </tbody>\n",
       "</table>\n",
       "</div>"
      ],
      "text/plain": [
       "                                          feature_idx  \\\n",
       "19  (0, 1, 2, 3, 4, 5, 6, 7, 8, 9, 10, 11, 12, 13,...   \n",
       "18  (0, 1, 2, 3, 4, 5, 6, 7, 8, 9, 10, 11, 12, 13,...   \n",
       "17  (0, 1, 2, 3, 4, 5, 6, 7, 8, 9, 10, 11, 13, 14,...   \n",
       "16  (0, 1, 2, 3, 4, 5, 6, 7, 8, 9, 10, 11, 13, 14,...   \n",
       "15  (0, 1, 2, 4, 5, 6, 7, 8, 9, 10, 11, 13, 14, 15...   \n",
       "14    (0, 1, 2, 4, 5, 6, 7, 8, 9, 10, 11, 13, 14, 16)   \n",
       "13       (0, 1, 2, 4, 6, 7, 8, 9, 10, 11, 13, 14, 16)   \n",
       "12          (0, 2, 4, 6, 7, 8, 9, 10, 11, 13, 14, 16)   \n",
       "11              (0, 2, 4, 6, 7, 8, 9, 11, 13, 14, 16)   \n",
       "10                  (0, 2, 4, 6, 7, 8, 9, 13, 14, 16)   \n",
       "\n",
       "                                            cv_scores   avg_score  \\\n",
       "19  [-148.64884949397586, -122.40860521445784, -97...  -123.78805   \n",
       "18  [-143.95482067469874, -121.77773647228915, -98... -122.399308   \n",
       "17  [-143.5575907469879, -121.91546767228918, -94.... -122.302359   \n",
       "16  [-141.92158332530116, -122.17967773493974, -91... -120.837281   \n",
       "15  [-142.13375687710837, -121.14222317108434, -93... -120.168765   \n",
       "14  [-142.07381747469873, -119.380500626506, -92.7... -119.897372   \n",
       "13  [-140.0286305542168, -121.33875079518072, -92.... -119.046578   \n",
       "12  [-140.5019752963855, -121.12163113253013, -92.... -119.425791   \n",
       "11  [-142.43057373493968, -120.26537691566266, -92... -119.496117   \n",
       "10  [-143.96584968674694, -119.15753906506022, -92... -119.620013   \n",
       "\n",
       "                                        feature_names   ci_bound    std_dev  \\\n",
       "19  (PM2.5, Land_EQI, Sociod_EQI, Built_EQI, CLU50...  20.744505  16.139929   \n",
       "18  (PM2.5, Land_EQI, Sociod_EQI, Built_EQI, CLU50...  18.466889  14.367867   \n",
       "17  (PM2.5, Land_EQI, Sociod_EQI, Built_EQI, CLU50...  20.349614  15.832691   \n",
       "16  (PM2.5, Land_EQI, Sociod_EQI, Built_EQI, CLU50...  21.033008  16.364395   \n",
       "15  (PM2.5, Land_EQI, Sociod_EQI, CLU50_1, PM10, S...   20.07064   15.61564   \n",
       "14  (PM2.5, Land_EQI, Sociod_EQI, CLU50_1, PM10, S...  20.268069  15.769246   \n",
       "13  (PM2.5, Land_EQI, Sociod_EQI, CLU50_1, SO2, NO...  19.844225  15.439481   \n",
       "12  (PM2.5, Sociod_EQI, CLU50_1, SO2, NO2, O3, CO,...   19.78933  15.396771   \n",
       "11  (PM2.5, Sociod_EQI, CLU50_1, SO2, NO2, O3, CO,...  20.609684  16.035034   \n",
       "10  (PM2.5, Sociod_EQI, CLU50_1, SO2, NO2, O3, CO,...  20.874789  16.241295   \n",
       "\n",
       "     std_err  \n",
       "19  8.069965  \n",
       "18  7.183934  \n",
       "17  7.916346  \n",
       "16  8.182197  \n",
       "15   7.80782  \n",
       "14  7.884623  \n",
       "13  7.719741  \n",
       "12  7.698386  \n",
       "11  8.017517  \n",
       "10  8.120647  "
      ]
     },
     "execution_count": 3,
     "metadata": {},
     "output_type": "execute_result"
    }
   ],
   "source": [
    "from mlxtend.feature_selection import SequentialFeatureSelector as SFS\n",
    "# Initialize Random Forest Regression model\n",
    "model = RandomForestRegressor(n_estimators=50, random_state=156, max_features=25)\n",
    "\n",
    "sfs_backward = SFS(model, \n",
    "                   k_features=10, \n",
    "                   forward=False, \n",
    "                   floating=False, \n",
    "                   scoring='neg_mean_squared_error',\n",
    "                   cv=5)\n",
    "\n",
    "sfs_backward = sfs_backward.fit(X_train, y_train)\n",
    "\n",
    "# Selected Features\n",
    "selected_features_backward = X_train.columns[list(sfs_backward.k_feature_idx_)]\n",
    "print('Selected features in Backward Selection:', selected_features_backward)\n",
    "print('Score',sfs_backward.k_score_)\n",
    "\n",
    "pd.DataFrame.from_dict(sfs_backward.get_metric_dict()).T"
   ]
  },
  {
   "cell_type": "code",
   "execution_count": 4,
   "id": "074fdae2",
   "metadata": {},
   "outputs": [
    {
     "data": {
      "image/png": "[encoded data removed]",
      "text/plain": [
       "<Figure size 640x480 with 1 Axes>"
      ]
     },
     "metadata": {},
     "output_type": "display_data"
    }
   ],
   "source": [
    "from mlxtend.plotting import plot_sequential_feature_selection as plot_sfs\n",
    "import matplotlib.pyplot as plt\n",
    "\n",
    "fig = plot_sfs(sfs_backward.get_metric_dict(), kind='std_dev')\n",
    "plt.title('Sequential Backward Selection (w. StdDev)')\n",
    "plt.grid()\n",
    "plt.show()"
   ]
  },
  {
   "cell_type": "code",
   "execution_count": 6,
   "id": "fae6c2bd",
   "metadata": {},
   "outputs": [
    {
     "name": "stdout",
     "output_type": "stream",
     "text": [
      "Mean Squared Error: 104.80846647398846\n",
      "Mean Absolute Error: 8.060065510597303\n",
      "R-squared Score: 0.6418520293950221\n"
     ]
    }
   ],
   "source": [
    "if 'Unnamed: 0' in X_test.columns:\n",
    "    X_test.drop(columns=['Unnamed: 0'], inplace=True)\n",
    "\n",
    "X_train = X_train[selected_features_backward]\n",
    "X_test = X_test[selected_features_backward]     \n",
    "\n",
    "model.fit(X_train, y_train)\n",
    "preds = model.predict(X_test)\n",
    "\n",
    "mse = mean_squared_error(y_test, preds)\n",
    "mae = mean_absolute_error(y_test, preds)\n",
    "r2 = r2_score(y_test, preds)\n",
    "\n",
    "print(\"Mean Squared Error:\", mse)\n",
    "print(\"Mean Absolute Error:\", mae)\n",
    "print(\"R-squared Score:\", r2)"
   ]
  },
  {
   "cell_type": "code",
   "execution_count": 7,
   "id": "ee54b004",
   "metadata": {},
   "outputs": [
    {
     "data": {
      "text/plain": [
       "0.5931599212112292"
      ]
     },
     "execution_count": 7,
     "metadata": {},
     "output_type": "execute_result"
    }
   ],
   "source": [
    "from sklearn.model_selection import RepeatedKFold\n",
    "\n",
    "X_train = X_train[selected_features_backward]\n",
    "X_test = X_test[selected_features_backward]\n",
    "\n",
    "repeatkf = RepeatedKFold(n_splits=5, n_repeats=10, random_state=None)\n",
    "\n",
    "np.mean(cross_val_score(model, X_train, y_train, cv=repeatkf, n_jobs=-1))"
   ]
  },
  {
   "cell_type": "code",
   "execution_count": 8,
   "id": "7b412ffa",
   "metadata": {},
   "outputs": [
    {
     "name": "stdout",
     "output_type": "stream",
     "text": [
      "Fitting 5 folds for each of 20 candidates, totalling 100 fits\n",
      "Best parameters: {'max_depth': 20, 'n_estimators': 100}\n",
      "Test set score of the best model: 0.6427226492394749\n"
     ]
    }
   ],
   "source": [
    "from sklearn.model_selection import GridSearchCV\n",
    "\n",
    "params = {\n",
    "    'max_depth': np.arange(5,30,5),\n",
    "    'n_estimators': np.arange(50,210,50)\n",
    "}\n",
    "\n",
    "grid_search = GridSearchCV(estimator=model, param_grid=params, cv=5, n_jobs=-1, verbose=1, scoring='neg_mean_absolute_error', return_train_score=True)\n",
    "grid_search.fit(X_train, y_train)\n",
    "\n",
    "print(\"Best parameters:\", grid_search.best_params_)\n",
    "\n",
    "best_model = grid_search.best_estimator_\n",
    "test_score = best_model.score(X_test, y_test)\n",
    "print(\"Test set score of the best model:\", test_score)"
   ]
  },
  {
   "cell_type": "code",
   "execution_count": 9,
   "id": "60870b1f",
   "metadata": {},
   "outputs": [
    {
     "name": "stdout",
     "output_type": "stream",
     "text": [
      "Mean Squared Error: 104.55368817488267\n",
      "Mean Absolute Error: 8.03885244531092\n",
      "R-squared Score: 0.6427226492394749\n"
     ]
    }
   ],
   "source": [
    "clf_best = grid_search.best_estimator_\n",
    "y_test_pred = clf_best.predict(X_test)\n",
    "\n",
    "mse = mean_squared_error(y_test, y_test_pred)\n",
    "mae = mean_absolute_error(y_test, y_test_pred)\n",
    "r2 = r2_score(y_test, y_test_pred)\n",
    "\n",
    "print(\"Mean Squared Error:\", mse)\n",
    "print(\"Mean Absolute Error:\", mae)\n",
    "print(\"R-squared Score:\", r2)"
   ]
  },
  {
   "cell_type": "code",
   "execution_count": null,
   "id": "aa87576d-487f-4dba-96fa-dad76d84891e",
   "metadata": {},
   "outputs": [],
   "source": []
  },
  {
   "cell_type": "code",
   "execution_count": null,
   "id": "16bfcad0-7ef3-479d-8ebf-305f7a730e47",
   "metadata": {},
   "outputs": [],
   "source": []
  }
 ],
 "metadata": {
  "kernelspec": {
   "display_name": "Python 3 (ipykernel)",
   "language": "python",
   "name": "python3"
  },
  "language_info": {
   "codemirror_mode": {
    "name": "ipython",
    "version": 3
   },
   "file_extension": ".py",
   "mimetype": "text/x-python",
   "name": "python",
   "nbconvert_exporter": "python",
   "pygments_lexer": "ipython3",
   "version": "3.11.7"
  }
 },
 "nbformat": 4,
 "nbformat_minor": 5
}
