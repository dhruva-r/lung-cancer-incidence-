{
 "cells": [
  {
   "cell_type": "code",
   "execution_count": 1,
   "metadata": {},
   "outputs": [],
   "source": [
    "from sklearn.ensemble import BaggingRegressor\n",
    "from sklearn import tree\n",
    "\n",
    "import pandas as pd\n",
    "import numpy as np\n",
    "import matplotlib.pyplot as plt\n",
    "import seaborn as sns\n",
    "\n",
    "import warnings\n",
    "warnings.filterwarnings('ignore')\n",
    "\n",
    "from sklearn.model_selection import train_test_split, cross_val_score\n",
    "from sklearn.metrics import classification_report, accuracy_score, f1_score, mean_squared_error, mean_absolute_error, r2_score"
   ]
  },
  {
   "cell_type": "code",
   "execution_count": 2,
   "metadata": {},
   "outputs": [],
   "source": [
    "X_train = pd.read_csv('X_train.csv', index_col=0)\n",
    "y_train = pd.read_csv('y_train.csv')['Lung Cancer']\n",
    "\n",
    "X_test = pd.read_csv('X_test.csv', index_col=0)\n",
    "y_test = pd.read_csv('y_test.csv')['Lung Cancer']"
   ]
  },
  {
   "cell_type": "code",
   "execution_count": 3,
   "metadata": {},
   "outputs": [
    {
     "name": "stdout",
     "output_type": "stream",
     "text": [
      "Selected features in Backward Selection: Index(['PM2.5', 'Sociod_EQI', 'CLU50_1', 'O3', 'CO', 'CN', 'Disel', 'Air_EQI',\n",
      "       'Water_EQI', 'smoking_data'],\n",
      "      dtype='object')\n",
      "Score -119.45518786554214\n"
     ]
    },
    {
     "data": {
      "text/html": [
       "<div>\n",
       "<style scoped>\n",
       "    .dataframe tbody tr th:only-of-type {\n",
       "        vertical-align: middle;\n",
       "    }\n",
       "\n",
       "    .dataframe tbody tr th {\n",
       "        vertical-align: top;\n",
       "    }\n",
       "\n",
       "    .dataframe thead th {\n",
       "        text-align: right;\n",
       "    }\n",
       "</style>\n",
       "<table border=\"1\" class=\"dataframe\">\n",
       "  <thead>\n",
       "    <tr style=\"text-align: right;\">\n",
       "      <th></th>\n",
       "      <th>feature_idx</th>\n",
       "      <th>cv_scores</th>\n",
       "      <th>avg_score</th>\n",
       "      <th>feature_names</th>\n",
       "      <th>ci_bound</th>\n",
       "      <th>std_dev</th>\n",
       "      <th>std_err</th>\n",
       "    </tr>\n",
       "  </thead>\n",
       "  <tbody>\n",
       "    <tr>\n",
       "      <th>19</th>\n",
       "      <td>(0, 1, 2, 3, 4, 5, 6, 7, 8, 9, 10, 11, 12, 13,...</td>\n",
       "      <td>[-147.21475458554212, -119.84031286746992, -95...</td>\n",
       "      <td>-122.246887</td>\n",
       "      <td>(PM2.5, Land_EQI, Sociod_EQI, Built_EQI, CLU50...</td>\n",
       "      <td>21.011115</td>\n",
       "      <td>16.347361</td>\n",
       "      <td>8.17368</td>\n",
       "    </tr>\n",
       "    <tr>\n",
       "      <th>18</th>\n",
       "      <td>(0, 1, 2, 4, 5, 6, 7, 8, 9, 10, 11, 12, 13, 14...</td>\n",
       "      <td>[-145.0723614024096, -120.37528591084337, -96....</td>\n",
       "      <td>-121.499286</td>\n",
       "      <td>(PM2.5, Land_EQI, Sociod_EQI, CLU50_1, PM10, S...</td>\n",
       "      <td>19.661066</td>\n",
       "      <td>15.296977</td>\n",
       "      <td>7.648489</td>\n",
       "    </tr>\n",
       "    <tr>\n",
       "      <th>17</th>\n",
       "      <td>(0, 1, 2, 4, 5, 6, 7, 8, 9, 10, 11, 13, 14, 15...</td>\n",
       "      <td>[-144.48191340722883, -119.95684734457834, -93...</td>\n",
       "      <td>-120.417457</td>\n",
       "      <td>(PM2.5, Land_EQI, Sociod_EQI, CLU50_1, PM10, S...</td>\n",
       "      <td>20.876729</td>\n",
       "      <td>16.242804</td>\n",
       "      <td>8.121402</td>\n",
       "    </tr>\n",
       "    <tr>\n",
       "      <th>16</th>\n",
       "      <td>(0, 2, 4, 5, 6, 7, 8, 9, 10, 11, 13, 14, 15, 1...</td>\n",
       "      <td>[-145.127764426506, -116.6893006168675, -92.97...</td>\n",
       "      <td>-119.762074</td>\n",
       "      <td>(PM2.5, Sociod_EQI, CLU50_1, PM10, SO2, NO2, O...</td>\n",
       "      <td>21.420561</td>\n",
       "      <td>16.665924</td>\n",
       "      <td>8.332962</td>\n",
       "    </tr>\n",
       "    <tr>\n",
       "      <th>15</th>\n",
       "      <td>(0, 2, 4, 5, 6, 7, 8, 9, 10, 11, 13, 14, 16, 1...</td>\n",
       "      <td>[-144.5827696216866, -118.09437146024099, -90....</td>\n",
       "      <td>-119.624654</td>\n",
       "      <td>(PM2.5, Sociod_EQI, CLU50_1, PM10, SO2, NO2, O...</td>\n",
       "      <td>22.028412</td>\n",
       "      <td>17.138853</td>\n",
       "      <td>8.569427</td>\n",
       "    </tr>\n",
       "    <tr>\n",
       "      <th>14</th>\n",
       "      <td>(0, 2, 4, 5, 7, 8, 9, 10, 11, 13, 14, 16, 17, 18)</td>\n",
       "      <td>[-142.16375507951804, -114.1270015180723, -92....</td>\n",
       "      <td>-119.011049</td>\n",
       "      <td>(PM2.5, Sociod_EQI, CLU50_1, PM10, NO2, O3, CO...</td>\n",
       "      <td>20.911889</td>\n",
       "      <td>16.27016</td>\n",
       "      <td>8.13508</td>\n",
       "    </tr>\n",
       "    <tr>\n",
       "      <th>13</th>\n",
       "      <td>(0, 2, 4, 5, 7, 8, 9, 10, 11, 13, 14, 16, 18)</td>\n",
       "      <td>[-141.26196124578306, -117.38830307951808, -93...</td>\n",
       "      <td>-119.138794</td>\n",
       "      <td>(PM2.5, Sociod_EQI, CLU50_1, PM10, NO2, O3, CO...</td>\n",
       "      <td>19.766574</td>\n",
       "      <td>15.379066</td>\n",
       "      <td>7.689533</td>\n",
       "    </tr>\n",
       "    <tr>\n",
       "      <th>12</th>\n",
       "      <td>(0, 2, 4, 7, 8, 9, 10, 11, 13, 14, 16, 18)</td>\n",
       "      <td>[-142.44262266506018, -118.10611364096384, -92...</td>\n",
       "      <td>-119.134464</td>\n",
       "      <td>(PM2.5, Sociod_EQI, CLU50_1, NO2, O3, CO, CN, ...</td>\n",
       "      <td>20.469451</td>\n",
       "      <td>15.925928</td>\n",
       "      <td>7.962964</td>\n",
       "    </tr>\n",
       "    <tr>\n",
       "      <th>11</th>\n",
       "      <td>(0, 2, 4, 8, 9, 10, 11, 13, 14, 16, 18)</td>\n",
       "      <td>[-140.45867589397585, -118.3886437445783, -94....</td>\n",
       "      <td>-119.428955</td>\n",
       "      <td>(PM2.5, Sociod_EQI, CLU50_1, O3, CO, CN, Disel...</td>\n",
       "      <td>18.902069</td>\n",
       "      <td>14.706452</td>\n",
       "      <td>7.353226</td>\n",
       "    </tr>\n",
       "    <tr>\n",
       "      <th>10</th>\n",
       "      <td>(0, 2, 4, 8, 9, 10, 11, 13, 14, 16)</td>\n",
       "      <td>[-141.42475419518064, -118.2859996024096, -94....</td>\n",
       "      <td>-119.455188</td>\n",
       "      <td>(PM2.5, Sociod_EQI, CLU50_1, O3, CO, CN, Disel...</td>\n",
       "      <td>19.405826</td>\n",
       "      <td>15.098392</td>\n",
       "      <td>7.549196</td>\n",
       "    </tr>\n",
       "  </tbody>\n",
       "</table>\n",
       "</div>"
      ],
      "text/plain": [
       "                                          feature_idx  \\\n",
       "19  (0, 1, 2, 3, 4, 5, 6, 7, 8, 9, 10, 11, 12, 13,...   \n",
       "18  (0, 1, 2, 4, 5, 6, 7, 8, 9, 10, 11, 12, 13, 14...   \n",
       "17  (0, 1, 2, 4, 5, 6, 7, 8, 9, 10, 11, 13, 14, 15...   \n",
       "16  (0, 2, 4, 5, 6, 7, 8, 9, 10, 11, 13, 14, 15, 1...   \n",
       "15  (0, 2, 4, 5, 6, 7, 8, 9, 10, 11, 13, 14, 16, 1...   \n",
       "14  (0, 2, 4, 5, 7, 8, 9, 10, 11, 13, 14, 16, 17, 18)   \n",
       "13      (0, 2, 4, 5, 7, 8, 9, 10, 11, 13, 14, 16, 18)   \n",
       "12         (0, 2, 4, 7, 8, 9, 10, 11, 13, 14, 16, 18)   \n",
       "11            (0, 2, 4, 8, 9, 10, 11, 13, 14, 16, 18)   \n",
       "10                (0, 2, 4, 8, 9, 10, 11, 13, 14, 16)   \n",
       "\n",
       "                                            cv_scores   avg_score  \\\n",
       "19  [-147.21475458554212, -119.84031286746992, -95... -122.246887   \n",
       "18  [-145.0723614024096, -120.37528591084337, -96.... -121.499286   \n",
       "17  [-144.48191340722883, -119.95684734457834, -93... -120.417457   \n",
       "16  [-145.127764426506, -116.6893006168675, -92.97... -119.762074   \n",
       "15  [-144.5827696216866, -118.09437146024099, -90.... -119.624654   \n",
       "14  [-142.16375507951804, -114.1270015180723, -92.... -119.011049   \n",
       "13  [-141.26196124578306, -117.38830307951808, -93... -119.138794   \n",
       "12  [-142.44262266506018, -118.10611364096384, -92... -119.134464   \n",
       "11  [-140.45867589397585, -118.3886437445783, -94.... -119.428955   \n",
       "10  [-141.42475419518064, -118.2859996024096, -94.... -119.455188   \n",
       "\n",
       "                                        feature_names   ci_bound    std_dev  \\\n",
       "19  (PM2.5, Land_EQI, Sociod_EQI, Built_EQI, CLU50...  21.011115  16.347361   \n",
       "18  (PM2.5, Land_EQI, Sociod_EQI, CLU50_1, PM10, S...  19.661066  15.296977   \n",
       "17  (PM2.5, Land_EQI, Sociod_EQI, CLU50_1, PM10, S...  20.876729  16.242804   \n",
       "16  (PM2.5, Sociod_EQI, CLU50_1, PM10, SO2, NO2, O...  21.420561  16.665924   \n",
       "15  (PM2.5, Sociod_EQI, CLU50_1, PM10, SO2, NO2, O...  22.028412  17.138853   \n",
       "14  (PM2.5, Sociod_EQI, CLU50_1, PM10, NO2, O3, CO...  20.911889   16.27016   \n",
       "13  (PM2.5, Sociod_EQI, CLU50_1, PM10, NO2, O3, CO...  19.766574  15.379066   \n",
       "12  (PM2.5, Sociod_EQI, CLU50_1, NO2, O3, CO, CN, ...  20.469451  15.925928   \n",
       "11  (PM2.5, Sociod_EQI, CLU50_1, O3, CO, CN, Disel...  18.902069  14.706452   \n",
       "10  (PM2.5, Sociod_EQI, CLU50_1, O3, CO, CN, Disel...  19.405826  15.098392   \n",
       "\n",
       "     std_err  \n",
       "19   8.17368  \n",
       "18  7.648489  \n",
       "17  8.121402  \n",
       "16  8.332962  \n",
       "15  8.569427  \n",
       "14   8.13508  \n",
       "13  7.689533  \n",
       "12  7.962964  \n",
       "11  7.353226  \n",
       "10  7.549196  "
      ]
     },
     "execution_count": 3,
     "metadata": {},
     "output_type": "execute_result"
    }
   ],
   "source": [
    "from mlxtend.feature_selection import SequentialFeatureSelector as SFS\n",
    "# Initialize Bagging Regression model\n",
    "model = BaggingRegressor(n_estimators=100, random_state=156)\n",
    "\n",
    "sfs_backward = SFS(model, \n",
    "                   k_features=10, \n",
    "                   forward=False, \n",
    "                   floating=False, \n",
    "                   scoring='neg_mean_squared_error',\n",
    "                   cv=5)\n",
    "\n",
    "sfs_backward = sfs_backward.fit(X_train, y_train)\n",
    "\n",
    "# Selected Features\n",
    "selected_features_backward = X_train.columns[list(sfs_backward.k_feature_idx_)]\n",
    "print('Selected features in Backward Selection:', selected_features_backward)\n",
    "print('Score',sfs_backward.k_score_)\n",
    "\n",
    "pd.DataFrame.from_dict(sfs_backward.get_metric_dict()).T"
   ]
  },
  {
   "cell_type": "code",
   "execution_count": 4,
   "metadata": {},
   "outputs": [
    {
     "data": {
      "image/png": "[encoded data removed]",
      "text/plain": [
       "<Figure size 640x480 with 1 Axes>"
      ]
     },
     "metadata": {},
     "output_type": "display_data"
    }
   ],
   "source": [
    "from mlxtend.plotting import plot_sequential_feature_selection as plot_sfs\n",
    "import matplotlib.pyplot as plt\n",
    "\n",
    "fig = plot_sfs(sfs_backward.get_metric_dict(), kind='std_dev')\n",
    "plt.title('Sequential Backward Selection (w. StdDev)')\n",
    "plt.grid()\n",
    "plt.show()"
   ]
  },
  {
   "cell_type": "code",
   "execution_count": 5,
   "metadata": {},
   "outputs": [
    {
     "name": "stdout",
     "output_type": "stream",
     "text": [
      "Mean Squared Error: 110.03666429672448\n",
      "Mean Absolute Error: 8.22932562620424\n",
      "R-squared Score: 0.6239864074359507\n"
     ]
    }
   ],
   "source": [
    "if 'Unnamed: 0' in X_test.columns:\n",
    "    X_test.drop(columns=['Unnamed: 0'], inplace=True)\n",
    "    \n",
    "X_train = X_train[selected_features_backward]\n",
    "X_test = X_test[selected_features_backward]\n",
    "\n",
    "model.fit(X_train, y_train)\n",
    "preds = model.predict(X_test)\n",
    "mse = mean_squared_error(y_test, preds)\n",
    "\n",
    "mse = mean_squared_error(y_test, preds)\n",
    "mae = mean_absolute_error(y_test, preds)\n",
    "r2 = r2_score(y_test, preds)\n",
    "\n",
    "print(\"Mean Squared Error:\", mse)\n",
    "print(\"Mean Absolute Error:\", mae)\n",
    "print(\"R-squared Score:\", r2)"
   ]
  },
  {
   "cell_type": "code",
   "execution_count": 6,
   "metadata": {},
   "outputs": [
    {
     "data": {
      "text/plain": [
       "0.596197442867269"
      ]
     },
     "execution_count": 6,
     "metadata": {},
     "output_type": "execute_result"
    }
   ],
   "source": [
    "from sklearn.model_selection import RepeatedKFold\n",
    "\n",
    "X_train = X_train[selected_features_backward]\n",
    "X_test = X_test[selected_features_backward]\n",
    "\n",
    "repeatkf = RepeatedKFold(n_splits=5, n_repeats=10, random_state=None)\n",
    "\n",
    "np.mean(cross_val_score(model, X_train, y_train, cv=repeatkf, n_jobs=-1))"
   ]
  },
  {
   "cell_type": "code",
   "execution_count": 7,
   "metadata": {},
   "outputs": [
    {
     "name": "stdout",
     "output_type": "stream",
     "text": [
      "Fitting 5 folds for each of 48 candidates, totalling 240 fits\n",
      "Best parameters: {'max_features': 1.0, 'max_samples': 0.5, 'n_estimators': 100}\n",
      "Test set score of the best model: 0.6200181970262861\n"
     ]
    }
   ],
   "source": [
    "from sklearn.model_selection import GridSearchCV\n",
    "\n",
    "params = {\n",
    "    'n_estimators': [10, 20, 50, 100, 150, 200],\n",
    "    'max_features': [0.5, 1.0],\n",
    "    'max_samples' : [0.05, 0.1, 0.2, 0.5]\n",
    "}\n",
    "\n",
    "grid_search = GridSearchCV(model, param_grid=params, cv=5, n_jobs=-1, verbose=1, scoring='neg_mean_squared_error')\n",
    "grid_search.fit(X_train, y_train)\n",
    "\n",
    "print(\"Best parameters:\", grid_search.best_params_)\n",
    "\n",
    "best_model = grid_search.best_estimator_\n",
    "test_score = best_model.score(X_test, y_test)\n",
    "\n",
    "print(\"Test set score of the best model:\", test_score)"
   ]
  },
  {
   "cell_type": "code",
   "execution_count": 8,
   "metadata": {},
   "outputs": [
    {
     "name": "stdout",
     "output_type": "stream",
     "text": [
      "Mean Squared Error: 111.19792188246628\n",
      "Mean Absolute Error: 8.282125240847785\n",
      "R-squared Score: 0.6200181970262861\n"
     ]
    }
   ],
   "source": [
    "clf_best = grid_search.best_estimator_\n",
    "y_test_pred = clf_best.predict(X_test)\n",
    "\n",
    "mse = mean_squared_error(y_test, y_test_pred)\n",
    "mae = mean_absolute_error(y_test, y_test_pred)\n",
    "r2 = r2_score(y_test, y_test_pred)\n",
    "\n",
    "print(\"Mean Squared Error:\", mse)\n",
    "print(\"Mean Absolute Error:\", mae)\n",
    "print(\"R-squared Score:\", r2)"
   ]
  }
 ],
 "metadata": {
  "kernelspec": {
   "display_name": "Python 3 (ipykernel)",
   "language": "python",
   "name": "python3"
  },
  "language_info": {
   "codemirror_mode": {
    "name": "ipython",
    "version": 3
   },
   "file_extension": ".py",
   "mimetype": "text/x-python",
   "name": "python",
   "nbconvert_exporter": "python",
   "pygments_lexer": "ipython3",
   "version": "3.11.7"
  }
 },
 "nbformat": 4,
 "nbformat_minor": 4
}
